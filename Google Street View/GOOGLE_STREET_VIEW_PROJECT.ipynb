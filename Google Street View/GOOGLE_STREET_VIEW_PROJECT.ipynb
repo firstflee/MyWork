{
 "cells": [
  {
   "cell_type": "code",
   "execution_count": 1,
   "metadata": {},
   "outputs": [],
   "source": [
    "#from IPython.core.interactiveshell import InteractiveShell\n",
    "#InteractiveShell.ast_node_interactivity = \"all\""
   ]
  },
  {
   "cell_type": "code",
   "execution_count": 1,
   "metadata": {},
   "outputs": [
    {
     "name": "stderr",
     "output_type": "stream",
     "text": [
      "Using TensorFlow backend.\n"
     ]
    }
   ],
   "source": [
    "import matplotlib.pyplot as plt\n",
    "from keras.utils import np_utils\n",
    "from keras.utils import io_utils\n",
    "from keras.models import Sequential\n",
    "import pandas as pd\n",
    "import tensorflow as tf\n",
    "import keras as keras\n",
    "import h5py\n",
    "import numpy as np\n",
    "import os\n",
    "from sklearn.metrics import accuracy_score\n",
    "from sklearn.metrics import confusion_matrix\n",
    "from sklearn.metrics import classification_report\n",
    "from keras.models import Sequential\n",
    "from keras.layers import Activation, Dense, BatchNormalization, Dropout\n",
    "from keras import optimizers\n",
    "from keras.utils.np_utils import to_categorical\n",
    "from keras.wrappers.scikit_learn import KerasClassifier\n",
    "from sklearn.ensemble import VotingClassifier\n",
    "from keras import regularizers\n",
    "from keras.optimizers import SGD, Adam,Adamax, RMSprop,Adagrad,Nadam"
   ]
  },
  {
   "cell_type": "markdown",
   "metadata": {},
   "source": [
    "# Loading and accessing the .h5 dataset"
   ]
  },
  {
   "cell_type": "code",
   "execution_count": 2,
   "metadata": {},
   "outputs": [],
   "source": [
    "svhn = h5py.File('SVHN_single_grey1.h5', 'r+')\n",
    "#store = pd.HDFStore('SVHN_single_grey1.h5','r')"
   ]
  },
  {
   "cell_type": "code",
   "execution_count": 3,
   "metadata": {},
   "outputs": [],
   "source": [
    "#df = pd.read_hdf('SVHN_single_grey1.h5')"
   ]
  },
  {
   "cell_type": "code",
   "execution_count": 4,
   "metadata": {},
   "outputs": [
    {
     "name": "stdout",
     "output_type": "stream",
     "text": [
      "<HDF5 file \"SVHN_single_grey1.h5\" (mode r+)>\n"
     ]
    }
   ],
   "source": [
    "print(svhn)"
   ]
  },
  {
   "cell_type": "code",
   "execution_count": 5,
   "metadata": {},
   "outputs": [
    {
     "data": {
      "text/plain": [
       "KeysView(<HDF5 file \"SVHN_single_grey1.h5\" (mode r+)>)"
      ]
     },
     "execution_count": 5,
     "metadata": {},
     "output_type": "execute_result"
    }
   ],
   "source": [
    "svhn.keys()"
   ]
  },
  {
   "cell_type": "code",
   "execution_count": 6,
   "metadata": {},
   "outputs": [
    {
     "data": {
      "text/plain": [
       "['X_test', 'X_train', 'X_val', 'y_test', 'y_train', 'y_val']"
      ]
     },
     "execution_count": 6,
     "metadata": {},
     "output_type": "execute_result"
    }
   ],
   "source": [
    "list(svhn.keys())"
   ]
  },
  {
   "cell_type": "code",
   "execution_count": 7,
   "metadata": {},
   "outputs": [
    {
     "name": "stdout",
     "output_type": "stream",
     "text": [
      "[[152.3151 153.315  155.7169 ... 144.7118 138.5105 113.7841]\n",
      " [148.7176 150.3045 155.3148 ... 143.413  136.3859 110.0726]\n",
      " [148.7176 148.1306 152.4291 ... 140.7014 133.0873 106.0622]\n",
      " ...\n",
      " [154.7601 153.7602 149.6466 ... 156.2052 155.2161 154.8032]\n",
      " [155.76   152.7603 150.7605 ... 158.7319 156.444  155.857 ]\n",
      " [157.0588 155.173  151.9884 ... 159.9598 156.9601 156.9601]]\n"
     ]
    }
   ],
   "source": [
    "#store = pd.HDFStore('SVHN_single_grey1.h5')\n",
    "X_test = svhn['X_test'][:]\n",
    "X_train = svhn['X_train'][:]\n",
    "X_val = svhn['X_val'][:]\n",
    "y_test = svhn['y_test'][:]\n",
    "y_train = svhn['y_train'][:]\n",
    "y_val = svhn['y_val'][:]\n",
    "print(X_test[10])"
   ]
  },
  {
   "cell_type": "code",
   "execution_count": 8,
   "metadata": {},
   "outputs": [
    {
     "data": {
      "text/plain": [
       "60000"
      ]
     },
     "execution_count": 8,
     "metadata": {},
     "output_type": "execute_result"
    }
   ],
   "source": [
    "X_test[1]\n",
    "X_train.shape[0]\n",
    "X_test.shape[0]\n",
    "X_val.shape[0]"
   ]
  },
  {
   "cell_type": "code",
   "execution_count": 9,
   "metadata": {},
   "outputs": [
    {
     "name": "stdout",
     "output_type": "stream",
     "text": [
      "(42000, 1024)\n",
      "(18000, 1024)\n",
      "(60000, 1024)\n"
     ]
    }
   ],
   "source": [
    "X_train = X_train.reshape(42000, 1024)\n",
    "print (X_train.shape)\n",
    "X_test = X_test.reshape(18000, 1024)\n",
    "print (X_test.shape)\n",
    "X_val = X_val.reshape(60000,1024)\n",
    "print(X_val.shape)\n",
    "\n"
   ]
  },
  {
   "cell_type": "code",
   "execution_count": 10,
   "metadata": {},
   "outputs": [
    {
     "data": {
      "text/plain": [
       "array([[ 33.0704,  30.2601,  26.852 , ...,  49.6682,  50.853 ,  53.0377],\n",
       "       [ 86.9591,  87.0685,  88.3735, ...,  75.2206,  76.6396,  79.2865],\n",
       "       [123.125 , 125.8581, 122.0757, ...,  93.9349, 104.7875, 113.8252],\n",
       "       ...,\n",
       "       [154.094 , 155.8057, 156.8164, ..., 135.1328, 136.6596, 137.6595],\n",
       "       [207.4954, 208.4953, 213.0218, ..., 214.1357, 212.1359, 209.1362],\n",
       "       [ 95.0784,  96.0783, 100.0779, ..., 138.0803, 140.493 , 140.493 ]],\n",
       "      dtype=float32)"
      ]
     },
     "execution_count": 10,
     "metadata": {},
     "output_type": "execute_result"
    }
   ],
   "source": [
    "X_train"
   ]
  },
  {
   "cell_type": "code",
   "execution_count": 11,
   "metadata": {},
   "outputs": [],
   "source": [
    "#Normalize inputs from 0-255 to 0-1\n",
    "X_train = X_train/255\n",
    "X_test = X_test/255\n",
    "X_val = X_val/255"
   ]
  },
  {
   "cell_type": "code",
   "execution_count": 12,
   "metadata": {},
   "outputs": [
    {
     "data": {
      "text/plain": [
       "array([0.64315766, 0.62372077, 0.5893243 , ..., 0.5319741 , 0.5400522 ,\n",
       "       0.55277646], dtype=float32)"
      ]
     },
     "execution_count": 12,
     "metadata": {},
     "output_type": "execute_result"
    }
   ],
   "source": [
    "X_train[10]"
   ]
  },
  {
   "cell_type": "code",
   "execution_count": 13,
   "metadata": {},
   "outputs": [
    {
     "name": "stdout",
     "output_type": "stream",
     "text": [
      "(42000,)\n",
      "(18000,)\n",
      "(60000,)\n"
     ]
    }
   ],
   "source": [
    "print(y_train.shape)\n",
    "print(y_test.shape)\n",
    "print(y_val.shape)"
   ]
  },
  {
   "cell_type": "code",
   "execution_count": 14,
   "metadata": {},
   "outputs": [
    {
     "data": {
      "text/plain": [
       "1"
      ]
     },
     "execution_count": 14,
     "metadata": {},
     "output_type": "execute_result"
    }
   ],
   "source": [
    "y_train[10]"
   ]
  },
  {
   "cell_type": "code",
   "execution_count": 15,
   "metadata": {},
   "outputs": [],
   "source": [
    "# converting y data into categorical (one-hot encoding)\n",
    "y_train1 = to_categorical(y_train)\n",
    "y_test1 = to_categorical(y_test)\n",
    "y_val1 = to_categorical(y_val)"
   ]
  },
  {
   "cell_type": "code",
   "execution_count": 16,
   "metadata": {},
   "outputs": [
    {
     "data": {
      "text/plain": [
       "1"
      ]
     },
     "execution_count": 16,
     "metadata": {},
     "output_type": "execute_result"
    }
   ],
   "source": [
    "y_train[10]"
   ]
  },
  {
   "cell_type": "code",
   "execution_count": 17,
   "metadata": {},
   "outputs": [
    {
     "data": {
      "text/plain": [
       "array([0., 1., 0., 0., 0., 0., 0., 0., 0., 0.], dtype=float32)"
      ]
     },
     "execution_count": 17,
     "metadata": {},
     "output_type": "execute_result"
    }
   ],
   "source": [
    "y_train1[10]"
   ]
  },
  {
   "cell_type": "markdown",
   "metadata": {},
   "source": [
    "### Visualizing the dataset"
   ]
  },
  {
   "cell_type": "code",
   "execution_count": 18,
   "metadata": {},
   "outputs": [
    {
     "data": {
      "image/png": "[encoded data removed]",
      "text/plain": [
       "<Figure size 1440x72 with 20 Axes>"
      ]
     },
     "metadata": {
      "needs_background": "light"
     },
     "output_type": "display_data"
    },
    {
     "name": "stdout",
     "output_type": "stream",
     "text": [
      "label for each of the above image: [2 6 7 4 4 0 3 0 7 3 1 0 1 3 1 1 0 0 8 4]\n"
     ]
    }
   ],
   "source": [
    "# visualizing the first 10 images in the dataset and their labels\n",
    "%matplotlib inline\n",
    "import matplotlib.pyplot as plt\n",
    "plt.figure(figsize=(20, 1))\n",
    "for i in range(20):\n",
    "    plt.subplot(1, 20, i+1)\n",
    "    plt.imshow(X_train[i].reshape(32, 32))\n",
    "    plt.axis('off')\n",
    "plt.show()\n",
    "print('label for each of the above image: %s' % (y_train[0:20]))"
   ]
  },
  {
   "cell_type": "markdown",
   "metadata": {},
   "source": [
    "# Prediction using standard KNN algorithm"
   ]
  },
  {
   "cell_type": "code",
   "execution_count": 86,
   "metadata": {},
   "outputs": [
    {
     "data": {
      "text/plain": [
       "KNeighborsClassifier(algorithm='auto', leaf_size=30, metric='minkowski',\n",
       "           metric_params=None, n_jobs=None, n_neighbors=1, p=2,\n",
       "           weights='uniform')"
      ]
     },
     "execution_count": 86,
     "metadata": {},
     "output_type": "execute_result"
    }
   ],
   "source": [
    "\n",
    "from sklearn.neighbors import KNeighborsClassifier\n",
    "\n",
    "clfKNN = KNeighborsClassifier(n_neighbors = 1)\n",
    "clfKNN"
   ]
  },
  {
   "cell_type": "code",
   "execution_count": 87,
   "metadata": {},
   "outputs": [
    {
     "data": {
      "text/plain": [
       "KNeighborsClassifier(algorithm='auto', leaf_size=30, metric='minkowski',\n",
       "           metric_params=None, n_jobs=None, n_neighbors=1, p=2,\n",
       "           weights='uniform')"
      ]
     },
     "execution_count": 87,
     "metadata": {},
     "output_type": "execute_result"
    }
   ],
   "source": [
    "clfKNN.fit(X_train,y_train)"
   ]
  },
  {
   "cell_type": "code",
   "execution_count": 88,
   "metadata": {},
   "outputs": [
    {
     "data": {
      "text/plain": [
       "1.0"
      ]
     },
     "execution_count": 88,
     "metadata": {},
     "output_type": "execute_result"
    }
   ],
   "source": [
    "y_train_predict = clfKNN.predict(X_train)\n",
    "accuracy_score(y_train,y_train_predict)\n"
   ]
  },
  {
   "cell_type": "code",
   "execution_count": 89,
   "metadata": {},
   "outputs": [
    {
     "data": {
      "text/plain": [
       "0.83775"
      ]
     },
     "execution_count": 89,
     "metadata": {},
     "output_type": "execute_result"
    }
   ],
   "source": [
    "y_val_predict = clfKNN.predict(X_val)\n",
    "accuracy_score(y_val,y_val_predict)"
   ]
  },
  {
   "cell_type": "code",
   "execution_count": 90,
   "metadata": {},
   "outputs": [
    {
     "data": {
      "text/plain": [
       "0.45916666666666667"
      ]
     },
     "execution_count": 90,
     "metadata": {},
     "output_type": "execute_result"
    }
   ],
   "source": [
    "y_test_predict = clfKNN.predict(X_test)\n",
    "accuracy_score(y_test,y_test_predict)"
   ]
  },
  {
   "cell_type": "code",
   "execution_count": 91,
   "metadata": {},
   "outputs": [
    {
     "name": "stdout",
     "output_type": "stream",
     "text": [
      "              precision    recall  f1-score   support\n",
      "\n",
      "           0       0.52      0.47      0.49      1973\n",
      "           1       0.57      0.50      0.53      2072\n",
      "           2       0.48      0.54      0.51      1626\n",
      "           3       0.35      0.37      0.36      1635\n",
      "           4       0.57      0.60      0.59      1739\n",
      "           5       0.33      0.38      0.36      1538\n",
      "           6       0.39      0.38      0.39      1855\n",
      "           7       0.59      0.63      0.61      1703\n",
      "           8       0.37      0.34      0.36      1983\n",
      "           9       0.40      0.39      0.40      1876\n",
      "\n",
      "   micro avg       0.46      0.46      0.46     18000\n",
      "   macro avg       0.46      0.46      0.46     18000\n",
      "weighted avg       0.46      0.46      0.46     18000\n",
      "\n"
     ]
    }
   ],
   "source": [
    "print(classification_report(y_test_predict,y_test))"
   ]
  },
  {
   "cell_type": "markdown",
   "metadata": {},
   "source": [
    "- The accuracy with the traditional KNN model is 45.9% which is way below than the training and validation accuracy \n",
    "- The model is trying to overfit and it doesnot perform well on the training set"
   ]
  },
  {
   "cell_type": "markdown",
   "metadata": {},
   "source": [
    "# Neural Network from scratch"
   ]
  },
  {
   "cell_type": "markdown",
   "metadata": {},
   "source": [
    "#### Defining the Fully Connected Layer"
   ]
  },
  {
   "cell_type": "code",
   "execution_count": 41,
   "metadata": {},
   "outputs": [],
   "source": [
    "import numpy as np \n",
    "\n",
    "class Linear():\n",
    "    def __init__(self, in_size, out_size):\n",
    "        self.W = np.random.randn(in_size, out_size) * 0.01\n",
    "        self.b = np.zeros((1, out_size))\n",
    "        self.params = [self.W, self.b]\n",
    "        self.gradW = None\n",
    "        self.gradB = None\n",
    "        self.gradInput = None\n",
    "\n",
    "    def forward(self, X):\n",
    "        self.X = X\n",
    "        output = np.dot(self.X, self.W) + self.b\n",
    "        return output\n",
    "\n",
    "    def backward(self, nextgrad):\n",
    "        self.gradW = np.dot(self.X.T, nextgrad)\n",
    "        self.gradB = np.sum(nextgrad, axis=0)\n",
    "        self.gradInput = np.dot(nextgrad, self.W.T)\n",
    "        return self.gradInput, [self.gradW, self.gradB]"
   ]
  },
  {
   "cell_type": "markdown",
   "metadata": {},
   "source": [
    "#### Defining the Rectified Linear Activation Layer\n"
   ]
  },
  {
   "cell_type": "code",
   "execution_count": 42,
   "metadata": {},
   "outputs": [],
   "source": [
    "class ReLU():\n",
    "    def __init__(self):\n",
    "        self.params = []\n",
    "        self.gradInput = None\n",
    "\n",
    "    def forward(self, X):\n",
    "        self.output = np.maximum(X, 0)\n",
    "        return self.output\n",
    "\n",
    "    def backward(self, nextgrad):\n",
    "        self.gradInput = nextgrad.copy()\n",
    "        self.gradInput[self.output <=0] = 0\n",
    "        return self.gradInput, []"
   ]
  },
  {
   "cell_type": "markdown",
   "metadata": {},
   "source": [
    "#### Defining the softmax function"
   ]
  },
  {
   "cell_type": "code",
   "execution_count": 43,
   "metadata": {},
   "outputs": [],
   "source": [
    "def softmax(x):\n",
    "    exp_x = np.exp(x - np.max(x, axis=1, keepdims=True))\n",
    "    return exp_x / np.sum(exp_x, axis=1, keepdims=True)"
   ]
  },
  {
   "cell_type": "code",
   "execution_count": 44,
   "metadata": {},
   "outputs": [],
   "source": [
    "#### Defining the Cross Entropy Loss"
   ]
  },
  {
   "cell_type": "code",
   "execution_count": 45,
   "metadata": {},
   "outputs": [],
   "source": [
    "class CrossEntropy:\n",
    "    def forward(self, X, y):\n",
    "        self.m = y.shape[0]\n",
    "        self.p = softmax(X)\n",
    "        cross_entropy = -np.log(self.p[range(self.m), y]+1e-16)\n",
    "        loss = np.sum(cross_entropy) / self.m\n",
    "        return loss\n",
    "    \n",
    "    def backward(self, X, y):\n",
    "        y_idx = y.argmax()        \n",
    "        grad = softmax(X)\n",
    "        grad[range(self.m), y] -= 1\n",
    "        grad /= self.m\n",
    "        return grad"
   ]
  },
  {
   "cell_type": "markdown",
   "metadata": {},
   "source": [
    "### Neural Network Class"
   ]
  },
  {
   "cell_type": "code",
   "execution_count": 46,
   "metadata": {},
   "outputs": [],
   "source": [
    "class NN():\n",
    "    def __init__(self, lossfunc=CrossEntropy(), mode='train'):\n",
    "        self.params = []\n",
    "        self.layers = []\n",
    "        self.loss_func = lossfunc\n",
    "        self.grads = []\n",
    "        self.mode = mode\n",
    "        \n",
    "    def add_layer(self, layer):\n",
    "        self.layers.append(layer)\n",
    "        self.params.append(layer.params)\n",
    "\n",
    "    def forward(self, X):\n",
    "        for layer in self.layers:\n",
    "            X = layer.forward(X)\n",
    "        return X\n",
    "    \n",
    "    def backward(self, nextgrad):\n",
    "        self.clear_grad_param()\n",
    "        for layer in reversed(self.layers):\n",
    "            nextgrad, grad = layer.backward(nextgrad)\n",
    "            self.grads.append(grad)\n",
    "        return self.grads\n",
    "    \n",
    "    def train_step(self, X, y):\n",
    "        out = self.forward(X)\n",
    "        loss = self.loss_func.forward(out,y)  + ((Lambda / (2 * y.shape[0])) * np.sum([np.sum(w**2) for w in self.params[0][0]]))\n",
    "        nextgrad = self.loss_func.backward(out,y) + ((Lambda/y.shape[0]) * np.sum([np.sum(w) for w in self.params[0][0]]))\n",
    "        grads = self.backward(nextgrad)\n",
    "        return loss, grads\n",
    "    \n",
    "    def predict(self, X):\n",
    "        X = self.forward(X)\n",
    "        p = softmax(X)\n",
    "        return np.argmax(p, axis=1)\n",
    "    \n",
    "    def predict_scores(self, X):\n",
    "        X = self.forward(X)\n",
    "        p = softmax(X)\n",
    "        return p\n",
    "    \n",
    "    def clear_grad_param(self):\n",
    "        self.grads = []\n"
   ]
  },
  {
   "cell_type": "code",
   "execution_count": 47,
   "metadata": {},
   "outputs": [],
   "source": [
    "#### Defining the update function (SGD)"
   ]
  },
  {
   "cell_type": "code",
   "execution_count": 48,
   "metadata": {},
   "outputs": [],
   "source": [
    "def update(velocity, params, grads, learning_rate=0.01, mu=0.9):\n",
    "    for v, p, g, in zip(velocity, params, reversed(grads)):\n",
    "        for i in range(len(g)):\n",
    "            v[i] = (mu * v[i]) - (learning_rate * g[i])\n",
    "            p[i] += v[i]"
   ]
  },
  {
   "cell_type": "markdown",
   "metadata": {},
   "source": [
    "#### Defining a function which gives us the minibatches (both the datapoint and the corresponding label)"
   ]
  },
  {
   "cell_type": "code",
   "execution_count": 49,
   "metadata": {},
   "outputs": [],
   "source": [
    "# get minibatches\n",
    "def minibatch(X, y, minibatch_size):\n",
    "    n = X.shape[0]\n",
    "    minibatches = []\n",
    "    permutation = np.random.permutation(X.shape[0])\n",
    "    X = X[permutation]\n",
    "    y = y[permutation]\n",
    "    \n",
    "    for i in range(0, n , minibatch_size):\n",
    "        X_batch = X[i:i + minibatch_size, :]\n",
    "        y_batch = y[i:i + minibatch_size, ]\n",
    "\n",
    "        minibatches.append((X_batch, y_batch))\n",
    "    return minibatches"
   ]
  },
  {
   "cell_type": "code",
   "execution_count": 50,
   "metadata": {},
   "outputs": [],
   "source": [
    "#### The traning loop"
   ]
  },
  {
   "cell_type": "code",
   "execution_count": 64,
   "metadata": {},
   "outputs": [],
   "source": [
    "def sgd(net, X_train, y_train, minibatch_size, epoch, learning_rate, mu=0.9, X_val=None, y_val=None, Lambda=0, verb=True):\n",
    "    val_loss_epoch = []\n",
    "    minibatches = minibatch(X_train, y_train, minibatch_size)\n",
    "    minibatches_val = minibatch(X_val, y_val, minibatch_size)\n",
    "    \n",
    "    for i in range(epoch):\n",
    "        loss_batch = []\n",
    "        val_loss_batch = []\n",
    "        velocity = []\n",
    "        for param_layer in net.params:\n",
    "            p = [np.zeros_like(param) for param in list(param_layer)]\n",
    "            velocity.append(p)\n",
    "            \n",
    "        # iterate over mini batches\n",
    "        for X_mini, y_mini in minibatches:\n",
    "            loss, grads = net.train_step(X_mini, y_mini)\n",
    "            loss_batch.append(loss)\n",
    "            update(velocity, net.params, grads, learning_rate=learning_rate, mu=mu)\n",
    "\n",
    "        for X_mini_val, y_mini_val in minibatches_val:\n",
    "            val_loss, _ = net.train_step(X_mini, y_mini)\n",
    "            val_loss_batch.append(val_loss)\n",
    "        \n",
    "        # accuracy of model at end of epoch after all mini batch updates\n",
    "        m_train = X_train.shape[0]\n",
    "        m_val = X_val.shape[0]\n",
    "        y_train_pred = []\n",
    "        y_val_pred = []\n",
    "        y_train1 = []\n",
    "        y_vall = []\n",
    "        for ii in range(0, m_train, minibatch_size):\n",
    "            X_tr = X_train[ii:ii + minibatch_size, : ]\n",
    "            y_tr = y_train[ii:ii + minibatch_size,]\n",
    "            y_train1 = np.append(y_train1, y_tr)\n",
    "            y_train_pred = np.append(y_train_pred, net.predict(X_tr))\n",
    "\n",
    "        for ii in range(0, m_val, minibatch_size):\n",
    "            X_va = X_val[ii:ii + minibatch_size, : ]\n",
    "            y_va = y_val[ii:ii + minibatch_size,]\n",
    "            y_vall = np.append(y_vall, y_va)\n",
    "            y_val_pred = np.append(y_val_pred, net.predict(X_va))\n",
    "            \n",
    "        train_acc = check_accuracy(y_train1, y_train_pred)\n",
    "        val_acc = check_accuracy(y_vall, y_val_pred)\n",
    "        \n",
    "        ## weights\n",
    "        w = np.array(net.params[0][0])\n",
    "        \n",
    "        ## adding regularization to cost\n",
    "        mean_train_loss = (sum(loss_batch) / float(len(loss_batch)))\n",
    "        mean_val_loss = sum(val_loss_batch) / float(len(val_loss_batch))\n",
    "        \n",
    "        val_loss_epoch.append(mean_val_loss)\n",
    "        if verb:\n",
    "            if i%50==0:\n",
    "                print(\"Loss = {0} | Training Accuracy = {1} | Val Loss = {2} | Val Accuracy = {3}\".format(mean_train_loss, train_acc, mean_val_loss, val_acc))\n",
    "    return net, val_acc"
   ]
  },
  {
   "cell_type": "code",
   "execution_count": 65,
   "metadata": {},
   "outputs": [],
   "source": [
    "#### Checking the accuracy of the model "
   ]
  },
  {
   "cell_type": "code",
   "execution_count": 66,
   "metadata": {},
   "outputs": [],
   "source": [
    "def check_accuracy(y_true, y_pred):\n",
    "    count = 0\n",
    "    for i,j in zip(y_true, y_pred):\n",
    "        if int(i)==j:\n",
    "            count +=1\n",
    "    return float(count)/float(len(y_true))"
   ]
  },
  {
   "cell_type": "code",
   "execution_count": 67,
   "metadata": {},
   "outputs": [],
   "source": [
    "#### Invoking all that we have created until now"
   ]
  },
  {
   "cell_type": "code",
   "execution_count": 68,
   "metadata": {},
   "outputs": [],
   "source": [
    "from random import shuffle\n",
    "\n",
    "\n",
    "## input size\n",
    "input_dim = X_train.shape[1]\n",
    "\n",
    "def train_and_test_loop(iterations, lr, Lambda, verb=True):\n",
    "    ## hyperparameters\n",
    "    iterations = iterations\n",
    "    learning_rate = lr\n",
    "    hidden_nodes = 1000\n",
    "    output_nodes = 10\n",
    "\n",
    "    ## define neural net\n",
    "    nn = NN()\n",
    "    nn.add_layer(Linear(input_dim, hidden_nodes))\n",
    "    nn.add_layer(ReLU())\n",
    "    nn.add_layer(Linear(hidden_nodes, output_nodes))\n",
    "    \n",
    "    nn, val_acc = sgd(nn, X_train , y_train, minibatch_size=200, epoch=iterations, learning_rate=0.01,\n",
    "                      X_val=X_val, y_val=y_val, Lambda = Lambda)\n",
    "    return val_acc"
   ]
  },
  {
   "cell_type": "code",
   "execution_count": 70,
   "metadata": {},
   "outputs": [
    {
     "name": "stdout",
     "output_type": "stream",
     "text": [
      "Loss = 2.2988383042308995 | Training Accuracy = 0.13842857142857143 | Val Loss = 2.288715935514883 | Val Accuracy = 0.13801666666666668\n",
      "Loss = 0.5067567033241465 | Training Accuracy = 0.8506190476190476 | Val Loss = 0.5535381057178587 | Val Accuracy = 0.8419333333333333\n",
      "Loss = 0.37085111470344556 | Training Accuracy = 0.8827619047619047 | Val Loss = 0.455005968408954 | Val Accuracy = 0.8685166666666667\n",
      "Loss = 0.2856935633208553 | Training Accuracy = 0.8956666666666667 | Val Loss = 0.4227121177769782 | Val Accuracy = 0.8779166666666667\n"
     ]
    },
    {
     "data": {
      "text/plain": [
       "0.88435"
      ]
     },
     "execution_count": 70,
     "metadata": {},
     "output_type": "execute_result"
    }
   ],
   "source": [
    "lr = 0.01\n",
    "Lambda = 0\n",
    "train_and_test_loop(200, lr, Lambda)"
   ]
  },
  {
   "cell_type": "code",
   "execution_count": 72,
   "metadata": {},
   "outputs": [],
   "source": [
    "from random import shuffle\n",
    "\n",
    "\n",
    "## input size\n",
    "input_dim = X_train.shape[1]\n",
    "\n",
    "def train_and_test_loop(iterations, lr, Lambda, verb=True):\n",
    "    ## hyperparameters\n",
    "    iterations = iterations\n",
    "    learning_rate = lr\n",
    "    hidden_nodes = 1000\n",
    "    output_nodes = 10\n",
    "\n",
    "    ## define neural net\n",
    "    nn = NN()\n",
    "    nn.add_layer(Linear(input_dim, hidden_nodes))\n",
    "    nn.add_layer(ReLU())\n",
    "    nn.add_layer(Linear(hidden_nodes, output_nodes))\n",
    "    \n",
    "    nn, val_acc = sgd(nn, X_train , y_train, minibatch_size=200, epoch=iterations, learning_rate=0.01,\n",
    "                      X_val=X_test,y_val=y_test, Lambda = Lambda)\n",
    "    return val_acc"
   ]
  },
  {
   "cell_type": "code",
   "execution_count": 73,
   "metadata": {},
   "outputs": [
    {
     "name": "stdout",
     "output_type": "stream",
     "text": [
      "Loss = 2.2987238195045077 | Training Accuracy = 0.1752857142857143 | Val Loss = 2.287327505111902 | Val Accuracy = 0.1676111111111111\n",
      "Loss = 0.5133765689436457 | Training Accuracy = 0.8347619047619048 | Val Loss = 0.6563289589216994 | Val Accuracy = 0.8033333333333333\n",
      "Loss = 0.36827052068677946 | Training Accuracy = 0.8627619047619047 | Val Loss = 0.559236791172203 | Val Accuracy = 0.8214444444444444\n",
      "Loss = 0.2848801207408324 | Training Accuracy = 0.8901666666666667 | Val Loss = 0.49581627131120143 | Val Accuracy = 0.8332777777777778\n"
     ]
    },
    {
     "data": {
      "text/plain": [
       "0.8397777777777777"
      ]
     },
     "execution_count": 73,
     "metadata": {},
     "output_type": "execute_result"
    }
   ],
   "source": [
    "lr = 0.01\n",
    "Lambda = 0\n",
    "train_and_test_loop(200, lr, Lambda)"
   ]
  },
  {
   "cell_type": "markdown",
   "metadata": {},
   "source": [
    "# NEAURAL NETWORKS USING KERAS"
   ]
  },
  {
   "cell_type": "markdown",
   "metadata": {},
   "source": [
    "### Framework to check different models "
   ]
  },
  {
   "cell_type": "code",
   "execution_count": 74,
   "metadata": {},
   "outputs": [],
   "source": [
    "y_train1 = to_categorical(y_train)\n",
    "y_test1 = to_categorical(y_test)\n",
    "y_val1 = to_categorical(y_val)\n",
    "\n",
    "# n_fet : Number of features \n",
    "\n",
    "# layer : Number of Layers ( last layer being output layer) list should contain number of neurons in each layer\n",
    "[256,150,30,1]\n",
    "# initializers : Weight Initializers\n",
    "       # Options: zeros, ones, RandomNormal, he_normal,RandomUniform, TruncatedNormal, glorot_normal ... etc\n",
    "    \n",
    "# activations : Activation function for each layer \n",
    "       # Options: sigmoid, relu, elu, selu, softmax ...etc\n",
    "    \n",
    "# dropout : Do we need dropout layer [ Specified as percentage ; 0.0 means no dropout]\n",
    "\n",
    "# batchNormalization : Do we need batch Normalization\n",
    "\n",
    "# optimizer : Optimizer \n",
    "       # Options : SGD, Adam, RMSprop, Adagrad\n",
    "    \n",
    "# lr : Learning rate\n",
    "\n",
    "# loss : loss function \n",
    "       # Options : categorical_crossentropy, binary_crossentropy, \n",
    "    \n",
    "# metric : evaluation measure \n",
    "       # Options : accuracy, mae, auc \n",
    "    \n",
    "# Regularizer: Regularization (L1,L2 or L1 L2)\n",
    "    \n",
    "def create_model(n_fet,layers,initializers,activations,dropout,batchNormalization,optimizer,lr,loss,metric,regularizer):\n",
    "    model = Sequential()\n",
    "    for i in range(len(layers)):\n",
    "        if(i==0):\n",
    "            if regularizer:\n",
    "                model.add(Dense(layers[i], input_shape = (n_fet, ),kernel_regularizer=regularizers.l2(0.01), kernel_initializer=initializers[i]))\n",
    "            else:\n",
    "                model.add(Dense(layers[i], input_shape = (n_fet, ), kernel_initializer=initializers[i]))\n",
    "            model.add(Activation(activations[i]))\n",
    "            if dropout[i] != 0.0:\n",
    "                model.add(Dropout(dropout[i]))\n",
    "            if batchNormalization :\n",
    "                model.add(BatchNormalization())\n",
    "        else:\n",
    "            if regularizer:\n",
    "                model.add(Dense(layers[i], kernel_initializer=initializers[i]))\n",
    "            else:\n",
    "                model.add(Dense(layers[i],kernel_regularizer=regularizers.l2(0.01), kernel_initializer=initializers[i]))\n",
    "            model.add(Activation(activations[i]))\n",
    "            if dropout[i] != 0.0:\n",
    "                model.add(Dropout(dropout[i]))\n",
    "            if batchNormalization:\n",
    "                model.add(BatchNormalization())\n",
    "            \n",
    "    if optimizer=='Adam' :\n",
    "        opt = Adam(lr=lr)\n",
    "    elif optimizer == \"Adagrad\":\n",
    "        opt = Adagrad(lr=lr)\n",
    "    elif optimizer == \"Adamax\" :\n",
    "        opt = Adamax(lr=lr)\n",
    "    elif optimizer == \"SGD\":\n",
    "        opt = SGD(lr=lr)\n",
    "    elif optimizer == \"RMSprop\":\n",
    "        opt = RMSprop(lr=lr)\n",
    "    elif optimizer == \"Nadam\":\n",
    "        opt = Nadam(lr=lr)\n",
    "\n",
    "\n",
    "    model.compile(optimizer = opt, loss = loss, metrics = metric)\n",
    "\n",
    "    return model\n",
    "                "
   ]
  },
  {
   "cell_type": "markdown",
   "metadata": {},
   "source": [
    "### First Model"
   ]
  },
  {
   "cell_type": "code",
   "execution_count": 80,
   "metadata": {},
   "outputs": [],
   "source": [
    "model1 = create_model(1024,[200,150,100,50,10],['he_normal','he_normal','he_normal','he_normal','he_normal'],['relu','relu','relu','relu','softmax'],[0.0,0.0,0.0,0.0,0.0],1,'Adam',0.001,'binary_crossentropy',['accuracy'],1)"
   ]
  },
  {
   "cell_type": "code",
   "execution_count": 81,
   "metadata": {},
   "outputs": [
    {
     "name": "stdout",
     "output_type": "stream",
     "text": [
      "_________________________________________________________________\n",
      "Layer (type)                 Output Shape              Param #   \n",
      "=================================================================\n",
      "dense_6 (Dense)              (None, 200)               205000    \n",
      "_________________________________________________________________\n",
      "activation_6 (Activation)    (None, 200)               0         \n",
      "_________________________________________________________________\n",
      "batch_normalization_6 (Batch (None, 200)               800       \n",
      "_________________________________________________________________\n",
      "dense_7 (Dense)              (None, 150)               30150     \n",
      "_________________________________________________________________\n",
      "activation_7 (Activation)    (None, 150)               0         \n",
      "_________________________________________________________________\n",
      "batch_normalization_7 (Batch (None, 150)               600       \n",
      "_________________________________________________________________\n",
      "dense_8 (Dense)              (None, 100)               15100     \n",
      "_________________________________________________________________\n",
      "activation_8 (Activation)    (None, 100)               0         \n",
      "_________________________________________________________________\n",
      "batch_normalization_8 (Batch (None, 100)               400       \n",
      "_________________________________________________________________\n",
      "dense_9 (Dense)              (None, 50)                5050      \n",
      "_________________________________________________________________\n",
      "activation_9 (Activation)    (None, 50)                0         \n",
      "_________________________________________________________________\n",
      "batch_normalization_9 (Batch (None, 50)                200       \n",
      "_________________________________________________________________\n",
      "dense_10 (Dense)             (None, 10)                510       \n",
      "_________________________________________________________________\n",
      "activation_10 (Activation)   (None, 10)                0         \n",
      "_________________________________________________________________\n",
      "batch_normalization_10 (Batc (None, 10)                40        \n",
      "=================================================================\n",
      "Total params: 257,850\n",
      "Trainable params: 256,830\n",
      "Non-trainable params: 1,020\n",
      "_________________________________________________________________\n"
     ]
    }
   ],
   "source": [
    "model1.summary()"
   ]
  },
  {
   "cell_type": "code",
   "execution_count": 82,
   "metadata": {},
   "outputs": [
    {
     "name": "stdout",
     "output_type": "stream",
     "text": [
      "Epoch 1/10\n",
      "42000/42000 [==============================] - 54s 1ms/step - loss: 3.9385 - acc: 0.4048\n",
      "Epoch 2/10\n",
      "42000/42000 [==============================] - 56s 1ms/step - loss: 1.6370 - acc: 0.5350\n",
      "Epoch 3/10\n",
      "42000/42000 [==============================] - 52s 1ms/step - loss: 1.2299 - acc: 0.6690\n",
      "Epoch 4/10\n",
      "42000/42000 [==============================] - 52s 1ms/step - loss: 0.9878 - acc: 0.8283\n",
      "Epoch 5/10\n",
      "42000/42000 [==============================] - 52s 1ms/step - loss: 0.6852 - acc: 0.8773: 0s - loss: 0.6854 - acc: 0.8\n",
      "Epoch 6/10\n",
      "42000/42000 [==============================] - 53s 1ms/step - loss: 0.5901 - acc: 0.8921\n",
      "Epoch 7/10\n",
      "42000/42000 [==============================] - 51s 1ms/step - loss: 0.6552 - acc: 0.9000\n",
      "Epoch 8/10\n",
      "42000/42000 [==============================] - 50s 1ms/step - loss: 0.5410 - acc: 0.9000\n",
      "Epoch 9/10\n",
      "42000/42000 [==============================] - 51s 1ms/step - loss: 0.4505 - acc: 0.9000\n",
      "Epoch 10/10\n",
      "42000/42000 [==============================] - 46s 1ms/step - loss: 0.4174 - acc: 0.9000: 0s - loss: 0.4177\n"
     ]
    }
   ],
   "source": [
    "history1 = model1.fit(X_train, y_train1, batch_size = 10, epochs = 10, verbose = 1)"
   ]
  },
  {
   "cell_type": "code",
   "execution_count": 83,
   "metadata": {},
   "outputs": [
    {
     "name": "stdout",
     "output_type": "stream",
     "text": [
      "60000/60000 [==============================] - 7s 121us/step\n"
     ]
    },
    {
     "data": {
      "text/plain": [
       "0.893880042330424"
      ]
     },
     "execution_count": 83,
     "metadata": {},
     "output_type": "execute_result"
    }
   ],
   "source": [
    "model1.evaluate(X_val, y_val1)[1]"
   ]
  },
  {
   "cell_type": "code",
   "execution_count": 84,
   "metadata": {},
   "outputs": [
    {
     "name": "stdout",
     "output_type": "stream",
     "text": [
      "18000/18000 [==============================] - 2s 109us/step\n"
     ]
    },
    {
     "data": {
      "text/plain": [
       "0.8934500444200304"
      ]
     },
     "execution_count": 84,
     "metadata": {},
     "output_type": "execute_result"
    }
   ],
   "source": [
    "model1.evaluate(X_test,y_test1)[1]"
   ]
  },
  {
   "cell_type": "markdown",
   "metadata": {},
   "source": [
    "### Second Model"
   ]
  },
  {
   "cell_type": "code",
   "execution_count": 85,
   "metadata": {},
   "outputs": [],
   "source": [
    "model2 = create_model(1024,[200,200,100,100,10],['RandomNormal','RandomNormal','he_normal','he_normal','he_normal'],['relu','relu','relu','relu','softmax'],[0.0,0.0,0.0,0.0,0.0],1,'Adam',0.001,'binary_crossentropy',['accuracy'],1)"
   ]
  },
  {
   "cell_type": "code",
   "execution_count": 86,
   "metadata": {},
   "outputs": [
    {
     "name": "stdout",
     "output_type": "stream",
     "text": [
      "Epoch 1/10\n",
      "42000/42000 [==============================] - 87s 2ms/step - loss: 5.0849 - acc: 0.5545\n",
      "Epoch 2/10\n",
      "42000/42000 [==============================] - 68s 2ms/step - loss: 2.2217 - acc: 0.7626: 1s \n",
      "Epoch 3/10\n",
      "42000/42000 [==============================] - 71s 2ms/step - loss: 1.2291 - acc: 0.7975\n",
      "Epoch 4/10\n",
      "42000/42000 [==============================] - 67s 2ms/step - loss: 0.9226 - acc: 0.8083: 8s - loss: 0.9237 - acc - ETA: 7s - loss: 0.9235 -  - ETA: 0s - loss: 0.9226 - acc: 0\n",
      "Epoch 5/10\n",
      "42000/42000 [==============================] - 68s 2ms/step - loss: 0.7671 - acc: 0.8106TA: 1\n",
      "Epoch 6/10\n",
      "42000/42000 [==============================] - 68s 2ms/step - loss: 0.7539 - acc: 0.8268\n",
      "Epoch 7/10\n",
      "42000/42000 [==============================] - 70s 2ms/step - loss: 0.7536 - acc: 0.8939\n",
      "Epoch 8/10\n",
      "42000/42000 [==============================] - 71s 2ms/step - loss: 0.7507 - acc: 0.9000\n",
      "Epoch 9/10\n",
      "42000/42000 [==============================] - ETA: 0s - loss: 0.7095 - acc: 0.900 - 68s 2ms/step - loss: 0.7096 - acc: 0.9000\n",
      "Epoch 10/10\n",
      "42000/42000 [==============================] - 70s 2ms/step - loss: 0.6567 - acc: 0.9000: 0s - loss: 0.6563 - acc: 0.90\n"
     ]
    }
   ],
   "source": [
    "history2 = model2.fit(X_train, y_train1, batch_size = 10, epochs = 10, verbose = 1)"
   ]
  },
  {
   "cell_type": "code",
   "execution_count": 87,
   "metadata": {},
   "outputs": [
    {
     "name": "stdout",
     "output_type": "stream",
     "text": [
      "60000/60000 [==============================] - 10s 165us/step\n"
     ]
    },
    {
     "data": {
      "text/plain": [
       "0.9000000357627869"
      ]
     },
     "execution_count": 87,
     "metadata": {},
     "output_type": "execute_result"
    }
   ],
   "source": [
    "model2.evaluate(X_val, y_val1)[1]"
   ]
  },
  {
   "cell_type": "code",
   "execution_count": 88,
   "metadata": {},
   "outputs": [
    {
     "name": "stdout",
     "output_type": "stream",
     "text": [
      "18000/18000 [==============================] - 3s 144us/step\n"
     ]
    },
    {
     "data": {
      "text/plain": [
       "0.9000000357098049"
      ]
     },
     "execution_count": 88,
     "metadata": {},
     "output_type": "execute_result"
    }
   ],
   "source": [
    "model2.evaluate(X_test,y_test1)[1]"
   ]
  },
  {
   "cell_type": "markdown",
   "metadata": {},
   "source": [
    "# Callbacks"
   ]
  },
  {
   "cell_type": "code",
   "execution_count": 156,
   "metadata": {},
   "outputs": [],
   "source": [
    "from keras.callbacks import ModelCheckpoint, ReduceLROnPlateau, CSVLogger\n",
    "from keras.callbacks import TensorBoard"
   ]
  },
  {
   "cell_type": "markdown",
   "metadata": {},
   "source": [
    "### Reducing Learning Rate"
   ]
  },
  {
   "cell_type": "code",
   "execution_count": 157,
   "metadata": {},
   "outputs": [],
   "source": [
    "reduce_lr = ReduceLROnPlateau(monitor='val_acc', factor=0.9, patience=30, min_lr=0.000001, verbose=1)"
   ]
  },
  {
   "cell_type": "markdown",
   "metadata": {},
   "source": [
    "### Model Check Pointer"
   ]
  },
  {
   "cell_type": "code",
   "execution_count": 158,
   "metadata": {},
   "outputs": [],
   "source": [
    "checkpointer = ModelCheckpoint(filepath=\"GoogleStreet.hdf5\", verbose=1, save_best_only=True)"
   ]
  },
  {
   "cell_type": "markdown",
   "metadata": {},
   "source": [
    "### Tensor Board Visualization"
   ]
  },
  {
   "cell_type": "code",
   "execution_count": 159,
   "metadata": {},
   "outputs": [],
   "source": [
    "tensorboard = TensorBoard(log_dir='logs', histogram_freq=2,write_graph=True, write_images=False)"
   ]
  },
  {
   "cell_type": "code",
   "execution_count": 160,
   "metadata": {},
   "outputs": [
    {
     "name": "stdout",
     "output_type": "stream",
     "text": [
      "Train on 33600 samples, validate on 8400 samples\n",
      "Epoch 1/10\n",
      "33600/33600 [==============================] - 6s 186us/step - loss: 0.6740 - acc: 0.8997 - val_loss: 0.6761 - val_acc: 0.8998\n",
      "\n",
      "Epoch 00001: val_loss improved from inf to 0.67607, saving model to GoogleStreet.hdf5\n",
      "Epoch 2/10\n",
      "33600/33600 [==============================] - 6s 192us/step - loss: 0.6520 - acc: 0.8999 - val_loss: 0.6630 - val_acc: 0.9000\n",
      "\n",
      "Epoch 00002: val_loss improved from 0.67607 to 0.66301, saving model to GoogleStreet.hdf5\n",
      "Epoch 3/10\n",
      "33600/33600 [==============================] - 6s 192us/step - loss: 0.6400 - acc: 0.9000 - val_loss: 0.6522 - val_acc: 0.8999\n",
      "\n",
      "Epoch 00003: val_loss improved from 0.66301 to 0.65216, saving model to GoogleStreet.hdf5\n",
      "Epoch 4/10\n",
      "33600/33600 [==============================] - 6s 191us/step - loss: 0.6303 - acc: 0.9000 - val_loss: 0.6433 - val_acc: 0.9000\n",
      "\n",
      "Epoch 00004: val_loss improved from 0.65216 to 0.64330, saving model to GoogleStreet.hdf5\n",
      "Epoch 5/10\n",
      "33600/33600 [==============================] - 7s 199us/step - loss: 0.6230 - acc: 0.9000 - val_loss: 0.6366 - val_acc: 0.9000\n",
      "\n",
      "Epoch 00005: val_loss improved from 0.64330 to 0.63657, saving model to GoogleStreet.hdf5\n",
      "Epoch 6/10\n",
      "33600/33600 [==============================] - 6s 189us/step - loss: 0.6170 - acc: 0.9000 - val_loss: 0.6369 - val_acc: 0.8995\n",
      "\n",
      "Epoch 00006: val_loss did not improve from 0.63657\n",
      "Epoch 7/10\n",
      "33600/33600 [==============================] - 7s 200us/step - loss: 0.6171 - acc: 0.9000 - val_loss: 0.6350 - val_acc: 0.8998\n",
      "\n",
      "Epoch 00007: val_loss improved from 0.63657 to 0.63495, saving model to GoogleStreet.hdf5\n",
      "Epoch 8/10\n",
      "33600/33600 [==============================] - 6s 188us/step - loss: 0.6109 - acc: 0.9000 - val_loss: 0.6234 - val_acc: 0.9002\n",
      "\n",
      "Epoch 00008: val_loss improved from 0.63495 to 0.62341, saving model to GoogleStreet.hdf5\n",
      "Epoch 9/10\n",
      "33600/33600 [==============================] - 6s 186us/step - loss: 0.6044 - acc: 0.9003 - val_loss: 0.6184 - val_acc: 0.9003\n",
      "\n",
      "Epoch 00009: val_loss improved from 0.62341 to 0.61839, saving model to GoogleStreet.hdf5\n",
      "Epoch 10/10\n",
      "33600/33600 [==============================] - 7s 197us/step - loss: 0.6237 - acc: 0.9000 - val_loss: 0.6362 - val_acc: 0.9000\n",
      "\n",
      "Epoch 00010: val_loss did not improve from 0.61839\n"
     ]
    },
    {
     "data": {
      "text/plain": [
       "<keras.callbacks.History at 0x1ffca54ada0>"
      ]
     },
     "execution_count": 160,
     "metadata": {},
     "output_type": "execute_result"
    }
   ],
   "source": [
    "model2.fit(X_train, y_train1, batch_size = 200, epochs = 10, verbose = 1,validation_split=0.20,\n",
    "          callbacks=[reduce_lr, checkpointer],shuffle=True)"
   ]
  },
  {
   "cell_type": "markdown",
   "metadata": {},
   "source": [
    "# Creating Ensemble of Models"
   ]
  },
  {
   "cell_type": "markdown",
   "metadata": {},
   "source": [
    "### Ensemble Without Dropout"
   ]
  },
  {
   "cell_type": "code",
   "execution_count": 110,
   "metadata": {},
   "outputs": [],
   "source": [
    "def nn_model():\n",
    "    model = Sequential()\n",
    "    \n",
    "    model.add(Dense(200, input_shape = (1024, ), kernel_initializer='he_normal'))\n",
    "    model.add(BatchNormalization())\n",
    "    model.add(Activation('relu'))\n",
    "   # model.add(Dropout(0.1))\n",
    "    model.add(Dense(150, kernel_initializer='he_normal'))\n",
    "    model.add(BatchNormalization())\n",
    "    model.add(Activation('relu'))    \n",
    "   # model.add(Dropout(0.1))\n",
    "    model.add(Dense(100, kernel_initializer='he_normal'))\n",
    "    model.add(BatchNormalization())\n",
    "    model.add(Activation('relu'))\n",
    "    #model.add(Dropout(0.1))\n",
    "    model.add(Dense(50, kernel_initializer='he_normal'))\n",
    "    model.add(BatchNormalization())\n",
    "    model.add(Activation('relu'))\n",
    "    #model.add(Dropout(0.1))\n",
    "    model.add(Dense(10, kernel_initializer='he_normal'))\n",
    "    model.add(Activation('softmax'))\n",
    "    \n",
    "    adam = optimizers.Adam(lr = 0.001)\n",
    "    model.compile(optimizer = adam, loss = 'categorical_crossentropy', metrics = ['accuracy'])\n",
    "    \n",
    "    return model"
   ]
  },
  {
   "cell_type": "code",
   "execution_count": 111,
   "metadata": {},
   "outputs": [],
   "source": [
    "# create 5 models to ensemble\n",
    "model111 = KerasClassifier(build_fn = nn_model, epochs = 200, verbose = 0)\n",
    "model122 = KerasClassifier(build_fn = nn_model, epochs = 200, verbose = 0)\n",
    "model133 = KerasClassifier(build_fn = nn_model, epochs = 200, verbose = 0)\n",
    "model144 = KerasClassifier(build_fn = nn_model, epochs = 200, verbose = 0)\n",
    "model155 = KerasClassifier(build_fn = nn_model, epochs = 200, verbose = 0)"
   ]
  },
  {
   "cell_type": "code",
   "execution_count": 112,
   "metadata": {},
   "outputs": [],
   "source": [
    "ensemble_clf1 = VotingClassifier(estimators = [('model111', model111), ('model122', model122), ('model133', model133), ('model144', model144), ('model155', model155)], voting = 'soft')"
   ]
  },
  {
   "cell_type": "code",
   "execution_count": 113,
   "metadata": {},
   "outputs": [
    {
     "data": {
      "text/plain": [
       "VotingClassifier(estimators=[('model111', <keras.wrappers.scikit_learn.KerasClassifier object at 0x000001FF0321F550>), ('model122', <keras.wrappers.scikit_learn.KerasClassifier object at 0x000001FF0321F630>), ('model133', <keras.wrappers.scikit_learn.KerasClassifier object at 0x000001FF0321F710>), ('model144', <keras.wrappers.scikit_learn.KerasClassifier object at 0x000001FF0321F748>), ('model155', <keras.wrappers.scikit_learn.KerasClassifier object at 0x000001FF0321F588>)],\n",
       "         flatten_transform=None, n_jobs=None, voting='soft', weights=None)"
      ]
     },
     "execution_count": 113,
     "metadata": {},
     "output_type": "execute_result"
    }
   ],
   "source": [
    "ensemble_clf1.fit(X_train, y_train)"
   ]
  },
  {
   "cell_type": "code",
   "execution_count": 114,
   "metadata": {},
   "outputs": [],
   "source": [
    "y_pred1 = ensemble_clf1.predict(X_train)"
   ]
  },
  {
   "cell_type": "code",
   "execution_count": 115,
   "metadata": {},
   "outputs": [
    {
     "name": "stdout",
     "output_type": "stream",
     "text": [
      "Training Accuracy:  0.9907857142857143\n"
     ]
    }
   ],
   "source": [
    "print('Training Accuracy: ',accuracy_score(y_pred1 , y_train))"
   ]
  },
  {
   "cell_type": "code",
   "execution_count": 116,
   "metadata": {},
   "outputs": [],
   "source": [
    "y_pred_validation = ensemble_clf1.predict(X_val)"
   ]
  },
  {
   "cell_type": "code",
   "execution_count": 117,
   "metadata": {},
   "outputs": [
    {
     "name": "stdout",
     "output_type": "stream",
     "text": [
      "Validation Accuracy:  0.9584166666666667\n"
     ]
    }
   ],
   "source": [
    "print('Validation Accuracy: ', accuracy_score(y_pred_validation, y_val))"
   ]
  },
  {
   "cell_type": "code",
   "execution_count": 118,
   "metadata": {},
   "outputs": [],
   "source": [
    "y_pred_testing = ensemble_clf1.predict(X_test)"
   ]
  },
  {
   "cell_type": "code",
   "execution_count": 119,
   "metadata": {},
   "outputs": [
    {
     "name": "stdout",
     "output_type": "stream",
     "text": [
      "Testing Accuracy:  0.8828888888888888\n"
     ]
    }
   ],
   "source": [
    "print('Testing Accuracy: ', accuracy_score(y_pred_testing, y_test))"
   ]
  },
  {
   "cell_type": "code",
   "execution_count": 120,
   "metadata": {},
   "outputs": [
    {
     "name": "stdout",
     "output_type": "stream",
     "text": [
      "Classification Report:\n",
      "               precision    recall  f1-score   support\n",
      "\n",
      "           0       0.91      0.89      0.90      1867\n",
      "           1       0.89      0.87      0.88      1868\n",
      "           2       0.90      0.91      0.90      1791\n",
      "           3       0.83      0.88      0.86      1623\n",
      "           4       0.92      0.91      0.91      1823\n",
      "           5       0.87      0.87      0.87      1760\n",
      "           6       0.84      0.90      0.87      1709\n",
      "           7       0.90      0.93      0.91      1760\n",
      "           8       0.87      0.85      0.86      1839\n",
      "           9       0.90      0.83      0.86      1960\n",
      "\n",
      "   micro avg       0.88      0.88      0.88     18000\n",
      "   macro avg       0.88      0.88      0.88     18000\n",
      "weighted avg       0.88      0.88      0.88     18000\n",
      "\n"
     ]
    }
   ],
   "source": [
    "print('Classification Report:\\n', classification_report(y_pred_testing,y_test))"
   ]
  },
  {
   "cell_type": "code",
   "execution_count": 121,
   "metadata": {},
   "outputs": [
    {
     "name": "stdout",
     "output_type": "stream",
     "text": [
      "Confusion Matrix:\n",
      " [[1657   26   12   17   20   12   39   16   24   44]\n",
      " [  29 1627   23   24   35   14   18   47   33   18]\n",
      " [  17   17 1622   34   11   13   11   36   17   13]\n",
      " [   9   22   21 1433   15   51   14   15   27   16]\n",
      " [  12   47   13   17 1658    8   33   15    8   12]\n",
      " [   2   10   11   85    5 1534   55    6   21   31]\n",
      " [  15   14    3   21   13   48 1543    5   40    7]\n",
      " [  11   30   33   19    4    6    8 1628    6   15]\n",
      " [  12   17   19   37   15   40   92   11 1569   27]\n",
      " [  50   18   46   32   36   42   19   29   67 1621]]\n"
     ]
    }
   ],
   "source": [
    "print('Confusion Matrix:\\n', confusion_matrix(y_pred_testing, y_test))"
   ]
  },
  {
   "cell_type": "markdown",
   "metadata": {},
   "source": [
    "### Ensemble with Dropout"
   ]
  },
  {
   "cell_type": "code",
   "execution_count": 89,
   "metadata": {},
   "outputs": [],
   "source": [
    "def nn_model():\n",
    "    model = Sequential()\n",
    "    \n",
    "    model.add(Dense(200, input_shape = (1024, ), kernel_initializer='he_normal'))\n",
    "    model.add(BatchNormalization())\n",
    "    model.add(Activation('relu'))\n",
    "    model.add(Dropout(0.1))\n",
    "    model.add(Dense(150, kernel_initializer='he_normal'))\n",
    "    model.add(BatchNormalization())\n",
    "    model.add(Activation('relu'))    \n",
    "    model.add(Dropout(0.1))\n",
    "    model.add(Dense(100, kernel_initializer='he_normal'))\n",
    "    model.add(BatchNormalization())\n",
    "    model.add(Activation('relu'))\n",
    "    model.add(Dropout(0.1))\n",
    "    model.add(Dense(50, kernel_initializer='he_normal'))\n",
    "    model.add(BatchNormalization())\n",
    "    model.add(Activation('relu'))\n",
    "    model.add(Dropout(0.1))\n",
    "    model.add(Dense(10, kernel_initializer='he_normal'))\n",
    "    model.add(Activation('softmax'))\n",
    "    \n",
    "    adam = optimizers.Adam(lr = 0.001)\n",
    "    model.compile(optimizer = adam, loss = 'categorical_crossentropy', metrics = ['accuracy'])\n",
    "    \n",
    "    return model"
   ]
  },
  {
   "cell_type": "code",
   "execution_count": 162,
   "metadata": {},
   "outputs": [],
   "source": [
    "# create 5 models to ensemble\n",
    "model1111 = KerasClassifier(build_fn = nn_model, epochs = 200, verbose = 0)\n",
    "model1222 = KerasClassifier(build_fn = nn_model, epochs = 200, verbose = 0)\n",
    "model1333 = KerasClassifier(build_fn = nn_model, epochs = 200, verbose = 0)\n",
    "model1444 = KerasClassifier(build_fn = nn_model, epochs = 200, verbose = 0)\n",
    "model1555 = KerasClassifier(build_fn = nn_model, epochs = 200, verbose = 0)"
   ]
  },
  {
   "cell_type": "code",
   "execution_count": 163,
   "metadata": {},
   "outputs": [],
   "source": [
    "ensemble_clf2 = VotingClassifier(estimators = [('model1111', model1111), ('model1222', model1222), ('model1333', model1333), ('model1444', model1444), ('model1555', model1555)], voting = 'soft')"
   ]
  },
  {
   "cell_type": "code",
   "execution_count": 164,
   "metadata": {},
   "outputs": [
    {
     "data": {
      "text/plain": [
       "VotingClassifier(estimators=[('model1111', <keras.wrappers.scikit_learn.KerasClassifier object at 0x000001FF323E4630>), ('model1222', <keras.wrappers.scikit_learn.KerasClassifier object at 0x000001FF323E44A8>), ('model1333', <keras.wrappers.scikit_learn.KerasClassifier object at 0x000001FF323E4EF0>), ('model1444', <keras.wrappers.scikit_learn.KerasClassifier object at 0x000001FF323E4898>), ('model1555', <keras.wrappers.scikit_learn.KerasClassifier object at 0x000001FF323E4748>)],\n",
       "         flatten_transform=None, n_jobs=None, voting='soft', weights=None)"
      ]
     },
     "execution_count": 164,
     "metadata": {},
     "output_type": "execute_result"
    }
   ],
   "source": [
    "ensemble_clf2.fit(X_train, y_train)"
   ]
  },
  {
   "cell_type": "code",
   "execution_count": 165,
   "metadata": {},
   "outputs": [],
   "source": [
    "y_pred2 = ensemble_clf2.predict(X_train)"
   ]
  },
  {
   "cell_type": "code",
   "execution_count": 166,
   "metadata": {},
   "outputs": [
    {
     "name": "stdout",
     "output_type": "stream",
     "text": [
      "Training Accuracy:  0.9921666666666666\n"
     ]
    }
   ],
   "source": [
    "print('Training Accuracy: ',accuracy_score(y_pred2 , y_train))"
   ]
  },
  {
   "cell_type": "code",
   "execution_count": 167,
   "metadata": {},
   "outputs": [],
   "source": [
    "y_pred2_validation = ensemble_clf2.predict(X_val)"
   ]
  },
  {
   "cell_type": "code",
   "execution_count": 168,
   "metadata": {},
   "outputs": [
    {
     "name": "stdout",
     "output_type": "stream",
     "text": [
      "Validation Accuracy:  0.9596\n"
     ]
    }
   ],
   "source": [
    "print('Validation Accuracy: ',accuracy_score(y_pred2_validation , y_val))"
   ]
  },
  {
   "cell_type": "code",
   "execution_count": 169,
   "metadata": {},
   "outputs": [],
   "source": [
    "y_pred2_testing = ensemble_clf2.predict(X_test)"
   ]
  },
  {
   "cell_type": "code",
   "execution_count": 170,
   "metadata": {},
   "outputs": [
    {
     "name": "stdout",
     "output_type": "stream",
     "text": [
      "Testing Accuracy:  0.8836111111111111\n"
     ]
    }
   ],
   "source": [
    "print('Testing Accuracy: ',accuracy_score(y_pred2_testing , y_test))"
   ]
  },
  {
   "cell_type": "code",
   "execution_count": 171,
   "metadata": {},
   "outputs": [
    {
     "name": "stdout",
     "output_type": "stream",
     "text": [
      "Classification Report:\n",
      "               precision    recall  f1-score   support\n",
      "\n",
      "           0       0.91      0.90      0.90      1842\n",
      "           1       0.90      0.87      0.88      1878\n",
      "           2       0.88      0.93      0.90      1706\n",
      "           3       0.87      0.80      0.83      1866\n",
      "           4       0.92      0.90      0.91      1838\n",
      "           5       0.89      0.85      0.87      1845\n",
      "           6       0.86      0.90      0.88      1766\n",
      "           7       0.92      0.90      0.91      1841\n",
      "           8       0.84      0.90      0.87      1691\n",
      "           9       0.85      0.89      0.87      1727\n",
      "\n",
      "   micro avg       0.88      0.88      0.88     18000\n",
      "   macro avg       0.88      0.88      0.88     18000\n",
      "weighted avg       0.88      0.88      0.88     18000\n",
      "\n"
     ]
    }
   ],
   "source": [
    "print('Classification Report:\\n', classification_report(y_pred2_testing,y_test))"
   ]
  },
  {
   "cell_type": "code",
   "execution_count": 172,
   "metadata": {},
   "outputs": [
    {
     "name": "stdout",
     "output_type": "stream",
     "text": [
      "Confusion Matrix:\n",
      " [[1654   17    9   10   16    9   34   14   30   49]\n",
      " [  29 1638   26   24   39   12   18   42   28   22]\n",
      " [   6   12 1586   18   12    9    5   24   16   18]\n",
      " [  17   38   51 1493   24   78   25   25   72   43]\n",
      " [  23   40   20   12 1658    9   29   13   14   20]\n",
      " [   9   15   11   87    8 1569   68    5   29   44]\n",
      " [  25   16    4   14   14   39 1584    8   49   13]\n",
      " [  17   34   52   23    8    4   10 1660   11   22]\n",
      " [  11   11   13   19    8   20   48    7 1522   32]\n",
      " [  23    7   31   19   25   19   11   10   41 1541]]\n"
     ]
    }
   ],
   "source": [
    "print('Confusion Matrix:\\n', confusion_matrix(y_pred2_testing, y_test))"
   ]
  },
  {
   "cell_type": "markdown",
   "metadata": {},
   "source": [
    "# CONCLUSIONS\n",
    "\n",
    "\n",
    "\n",
    "\n",
    "\n",
    "- SVHN dataset was modelled by traditional KNN classifier.  The model algorithm has highest accuracy of 100% with training, \n",
    "  85% with validation set but the accuracy drops to 45% with the test set.  Its a clear indication of overfitting\n",
    "  \n",
    "  \n",
    "\n",
    "- The Classification report with KNN classifier is generated.\n",
    "\n",
    "\n",
    "\n",
    "- Programming of Neural Networks done from scratch without using batch normalization and drop out.  1000 hidden nodes used   in single layer to obtain the accuracy of 89.5 in training set, 87.7 in validation and 83.9 in testing phase\n",
    "\n",
    "\n",
    "\n",
    "- A framework to generate different models with KERAS is programmed and two different models are checked by including batch normalization, with different number of nodes in hidden layers.  Both models gave approximately 90% accuracy in all the three datasets\n",
    "\n",
    "\n",
    "\n",
    "- Ensemble of five different models with same number of nodes and epocs generated with and without dropout along with batch normalization.  Both the models gave accuracies of 99% in training set, 95.7 in validation and 88.3 in testing phase.  The classification report and confusion matrix are generated.  \n",
    "\n",
    "\n",
    "\n",
    "\n",
    "- The accuracy on the validation and test data imporved from 85.3 to 95.7% and 45.7 to 88.3 respectively from the traditional KNN classifier to Ensemble of Neural Network models.\n",
    "\n",
    "\n",
    "\n",
    "\n",
    "- Callbacks like 'reducing Learning Rate' and 'ModelCheckPointer' are implemented on a Neural network model."
   ]
  },
  {
   "cell_type": "code",
   "execution_count": null,
   "metadata": {},
   "outputs": [],
   "source": []
  }
 ],
 "metadata": {
  "kernelspec": {
   "display_name": "Python 3",
   "language": "python",
   "name": "python3"
  },
  "language_info": {
   "codemirror_mode": {
    "name": "ipython",
    "version": 3
   },
   "file_extension": ".py",
   "mimetype": "text/x-python",
   "name": "python",
   "nbconvert_exporter": "python",
   "pygments_lexer": "ipython3",
   "version": "3.7.1"
  }
 },
 "nbformat": 4,
 "nbformat_minor": 2
}
