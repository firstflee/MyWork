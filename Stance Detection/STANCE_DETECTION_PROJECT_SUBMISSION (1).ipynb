{
 "cells": [
  {
   "cell_type": "markdown",
   "metadata": {
    "colab_type": "text",
    "id": "QI9jhXKPCFcJ"
   },
   "source": [
    "# Stance Detection for the Fake News Challenge\n",
    "\n",
    "## Identifying Textual Relationships with Deep Neural Nets\n",
    "\n"
   ]
  },
  {
   "cell_type": "markdown",
   "metadata": {
    "colab_type": "text",
    "id": "vSNgdEMpenpE"
   },
   "source": [
    "## Step1: Load the given dataset  \n",
    "\n",
    "1. Mount the google drive\n",
    "\n",
    "2. Import Glove embeddings\n",
    "\n",
    "3. Import the test and train datasets"
   ]
  },
  {
   "cell_type": "markdown",
   "metadata": {
    "colab_type": "text",
    "id": "aPOZRohMiSpQ"
   },
   "source": [
    "\n",
    "### Mount the google drive to access required project files\n",
    "\n",
    "Run the below commands"
   ]
  },
  {
   "cell_type": "code",
   "execution_count": 0,
   "metadata": {
    "colab": {},
    "colab_type": "code",
    "id": "7AS39z1XgFpT"
   },
   "outputs": [],
   "source": [
    "from google.colab import drive\n"
   ]
  },
  {
   "cell_type": "code",
   "execution_count": 4,
   "metadata": {
    "colab": {
     "base_uri": "https://localhost:8080/",
     "height": 128
    },
    "colab_type": "code",
    "id": "S_7yCFdzgFsH",
    "outputId": "6b807ee1-4865-4903-d676-d5861e264254"
   },
   "outputs": [
    {
     "name": "stdout",
     "output_type": "stream",
     "text": [
      "Go to this URL in a browser: https://accounts.google.com/o/oauth2/auth?client_id=947318989803-6bn6qk8qdgf4n4g3pfee6491hc0brc4i.apps.googleusercontent.com&redirect_uri=urn%3aietf%3awg%3aoauth%3a2.0%3aoob&response_type=code&scope=email%20https%3a%2f%2fwww.googleapis.com%2fauth%2fdocs.test%20https%3a%2f%2fwww.googleapis.com%2fauth%2fdrive%20https%3a%2f%2fwww.googleapis.com%2fauth%2fdrive.photos.readonly%20https%3a%2f%2fwww.googleapis.com%2fauth%2fpeopleapi.readonly\n",
      "\n",
      "Enter your authorization code:\n",
      "··········\n",
      "Mounted at /content/drive\n"
     ]
    }
   ],
   "source": [
    "drive.mount('/content/drive')"
   ]
  },
  {
   "cell_type": "markdown",
   "metadata": {
    "colab_type": "text",
    "id": "bhZdJ4zpwWzN"
   },
   "source": [
    "#### Path for Project files on google drive\n",
    "\n"
   ]
  },
  {
   "cell_type": "code",
   "execution_count": 0,
   "metadata": {
    "colab": {},
    "colab_type": "code",
    "id": "Aol97RUogFuS"
   },
   "outputs": [],
   "source": [
    "project_path = \"/content/drive/My Drive/Colab Notebooks/Fake News Challenge/\""
   ]
  },
  {
   "cell_type": "markdown",
   "metadata": {
    "colab_type": "text",
    "id": "2ly0VxAnwJ2f"
   },
   "source": [
    "### Loading the Glove Embeddings"
   ]
  },
  {
   "cell_type": "code",
   "execution_count": 0,
   "metadata": {
    "colab": {},
    "colab_type": "code",
    "id": "xmsPn6PF-cgL"
   },
   "outputs": [],
   "source": [
    "from zipfile import ZipFile\n",
    "with ZipFile(project_path+'glove.6B.zip', 'r') as z:\n",
    "  z.extractall()"
   ]
  },
  {
   "cell_type": "markdown",
   "metadata": {
    "colab_type": "text",
    "id": "TjLJEQ_PwcGi"
   },
   "source": [
    "# Load the dataset [5 Marks]\n",
    "\n",
    "1. Using [read_csv()](https://pandas.pydata.org/pandas-docs/stable/generated/pandas.read_csv.html) in pandas load the given train datasets files **`train_bodies.csv`** and **`train_stances.csv`**\n",
    "\n",
    "2. Using [merge](https://pandas.pydata.org/pandas-docs/stable/generated/pandas.DataFrame.merge.html) command in pandas merge the two datasets based on the Body ID. \n",
    "\n",
    "Note: Save the final merged dataset in a dataframe with name **`dataset`**."
   ]
  },
  {
   "cell_type": "code",
   "execution_count": 0,
   "metadata": {
    "colab": {},
    "colab_type": "code",
    "id": "7gXO1WZ-gFwm"
   },
   "outputs": [],
   "source": [
    "import pandas as pd\n",
    "trainbodies = pd.read_csv(project_path +'train_bodies.csv')"
   ]
  },
  {
   "cell_type": "code",
   "execution_count": 8,
   "metadata": {
    "colab": {
     "base_uri": "https://localhost:8080/",
     "height": 206
    },
    "colab_type": "code",
    "id": "kosAWskdOOT8",
    "outputId": "b0183840-e095-4841-a3dc-eabc52b31263"
   },
   "outputs": [
    {
     "data": {
      "text/html": [
       "<div>\n",
       "<style scoped>\n",
       "    .dataframe tbody tr th:only-of-type {\n",
       "        vertical-align: middle;\n",
       "    }\n",
       "\n",
       "    .dataframe tbody tr th {\n",
       "        vertical-align: top;\n",
       "    }\n",
       "\n",
       "    .dataframe thead th {\n",
       "        text-align: right;\n",
       "    }\n",
       "</style>\n",
       "<table border=\"1\" class=\"dataframe\">\n",
       "  <thead>\n",
       "    <tr style=\"text-align: right;\">\n",
       "      <th></th>\n",
       "      <th>Body ID</th>\n",
       "      <th>articleBody</th>\n",
       "    </tr>\n",
       "  </thead>\n",
       "  <tbody>\n",
       "    <tr>\n",
       "      <th>0</th>\n",
       "      <td>0</td>\n",
       "      <td>A small meteorite crashed into a wooded area i...</td>\n",
       "    </tr>\n",
       "    <tr>\n",
       "      <th>1</th>\n",
       "      <td>4</td>\n",
       "      <td>Last week we hinted at what was to come as Ebo...</td>\n",
       "    </tr>\n",
       "    <tr>\n",
       "      <th>2</th>\n",
       "      <td>5</td>\n",
       "      <td>(NEWSER) – Wonder how long a Quarter Pounder w...</td>\n",
       "    </tr>\n",
       "    <tr>\n",
       "      <th>3</th>\n",
       "      <td>6</td>\n",
       "      <td>Posting photos of a gun-toting child online, I...</td>\n",
       "    </tr>\n",
       "    <tr>\n",
       "      <th>4</th>\n",
       "      <td>7</td>\n",
       "      <td>At least 25 suspected Boko Haram insurgents we...</td>\n",
       "    </tr>\n",
       "  </tbody>\n",
       "</table>\n",
       "</div>"
      ],
      "text/plain": [
       "   Body ID                                        articleBody\n",
       "0        0  A small meteorite crashed into a wooded area i...\n",
       "1        4  Last week we hinted at what was to come as Ebo...\n",
       "2        5  (NEWSER) – Wonder how long a Quarter Pounder w...\n",
       "3        6  Posting photos of a gun-toting child online, I...\n",
       "4        7  At least 25 suspected Boko Haram insurgents we..."
      ]
     },
     "execution_count": 8,
     "metadata": {
      "tags": []
     },
     "output_type": "execute_result"
    }
   ],
   "source": [
    "trainbodies.head()"
   ]
  },
  {
   "cell_type": "code",
   "execution_count": 0,
   "metadata": {
    "colab": {},
    "colab_type": "code",
    "id": "wS5262NLR3M6"
   },
   "outputs": [],
   "source": [
    "trainstance = pd.read_csv(project_path + 'train_stances.csv')"
   ]
  },
  {
   "cell_type": "code",
   "execution_count": 10,
   "metadata": {
    "colab": {
     "base_uri": "https://localhost:8080/",
     "height": 206
    },
    "colab_type": "code",
    "id": "U64Y6YidR3hE",
    "outputId": "c1e829bf-7a9d-49af-9f0d-d4dc9409acf3"
   },
   "outputs": [
    {
     "data": {
      "text/html": [
       "<div>\n",
       "<style scoped>\n",
       "    .dataframe tbody tr th:only-of-type {\n",
       "        vertical-align: middle;\n",
       "    }\n",
       "\n",
       "    .dataframe tbody tr th {\n",
       "        vertical-align: top;\n",
       "    }\n",
       "\n",
       "    .dataframe thead th {\n",
       "        text-align: right;\n",
       "    }\n",
       "</style>\n",
       "<table border=\"1\" class=\"dataframe\">\n",
       "  <thead>\n",
       "    <tr style=\"text-align: right;\">\n",
       "      <th></th>\n",
       "      <th>Headline</th>\n",
       "      <th>Body ID</th>\n",
       "      <th>Stance</th>\n",
       "    </tr>\n",
       "  </thead>\n",
       "  <tbody>\n",
       "    <tr>\n",
       "      <th>0</th>\n",
       "      <td>Police find mass graves with at least '15 bodi...</td>\n",
       "      <td>712</td>\n",
       "      <td>unrelated</td>\n",
       "    </tr>\n",
       "    <tr>\n",
       "      <th>1</th>\n",
       "      <td>Hundreds of Palestinians flee floods in Gaza a...</td>\n",
       "      <td>158</td>\n",
       "      <td>agree</td>\n",
       "    </tr>\n",
       "    <tr>\n",
       "      <th>2</th>\n",
       "      <td>Christian Bale passes on role of Steve Jobs, a...</td>\n",
       "      <td>137</td>\n",
       "      <td>unrelated</td>\n",
       "    </tr>\n",
       "    <tr>\n",
       "      <th>3</th>\n",
       "      <td>HBO and Apple in Talks for $15/Month Apple TV ...</td>\n",
       "      <td>1034</td>\n",
       "      <td>unrelated</td>\n",
       "    </tr>\n",
       "    <tr>\n",
       "      <th>4</th>\n",
       "      <td>Spider burrowed through tourist's stomach and ...</td>\n",
       "      <td>1923</td>\n",
       "      <td>disagree</td>\n",
       "    </tr>\n",
       "  </tbody>\n",
       "</table>\n",
       "</div>"
      ],
      "text/plain": [
       "                                            Headline  Body ID     Stance\n",
       "0  Police find mass graves with at least '15 bodi...      712  unrelated\n",
       "1  Hundreds of Palestinians flee floods in Gaza a...      158      agree\n",
       "2  Christian Bale passes on role of Steve Jobs, a...      137  unrelated\n",
       "3  HBO and Apple in Talks for $15/Month Apple TV ...     1034  unrelated\n",
       "4  Spider burrowed through tourist's stomach and ...     1923   disagree"
      ]
     },
     "execution_count": 10,
     "metadata": {
      "tags": []
     },
     "output_type": "execute_result"
    }
   ],
   "source": [
    "trainstance.head()"
   ]
  },
  {
   "cell_type": "markdown",
   "metadata": {
    "colab_type": "text",
    "id": "eC4Wx_H9QY0Y"
   },
   "source": [
    "Merging the trainbodies and traininstance on Body ID"
   ]
  },
  {
   "cell_type": "code",
   "execution_count": 0,
   "metadata": {
    "colab": {},
    "colab_type": "code",
    "id": "u-ZwdxVASH4r"
   },
   "outputs": [],
   "source": [
    "dataset = pd.merge(trainbodies,trainstance,how = 'inner',on = 'Body ID')"
   ]
  },
  {
   "cell_type": "code",
   "execution_count": 17,
   "metadata": {
    "colab": {
     "base_uri": "https://localhost:8080/",
     "height": 35
    },
    "colab_type": "code",
    "id": "rakpyRcqXHt3",
    "outputId": "5b77048a-a6bc-4592-ca60-db0d59156f5a"
   },
   "outputs": [
    {
     "data": {
      "text/plain": [
       "(49972, 4)"
      ]
     },
     "execution_count": 17,
     "metadata": {
      "tags": []
     },
     "output_type": "execute_result"
    }
   ],
   "source": [
    "dataset.shape"
   ]
  },
  {
   "cell_type": "code",
   "execution_count": 16,
   "metadata": {
    "colab": {
     "base_uri": "https://localhost:8080/",
     "height": 206
    },
    "colab_type": "code",
    "id": "afj0UtdcSISL",
    "outputId": "e21f78d3-bcbf-4479-8d11-a9e38174be26"
   },
   "outputs": [
    {
     "data": {
      "text/html": [
       "<div>\n",
       "<style scoped>\n",
       "    .dataframe tbody tr th:only-of-type {\n",
       "        vertical-align: middle;\n",
       "    }\n",
       "\n",
       "    .dataframe tbody tr th {\n",
       "        vertical-align: top;\n",
       "    }\n",
       "\n",
       "    .dataframe thead th {\n",
       "        text-align: right;\n",
       "    }\n",
       "</style>\n",
       "<table border=\"1\" class=\"dataframe\">\n",
       "  <thead>\n",
       "    <tr style=\"text-align: right;\">\n",
       "      <th></th>\n",
       "      <th>Body ID</th>\n",
       "      <th>articleBody</th>\n",
       "      <th>Headline</th>\n",
       "      <th>Stance</th>\n",
       "    </tr>\n",
       "  </thead>\n",
       "  <tbody>\n",
       "    <tr>\n",
       "      <th>0</th>\n",
       "      <td>0</td>\n",
       "      <td>A small meteorite crashed into a wooded area i...</td>\n",
       "      <td>Soldier shot, Parliament locked down after gun...</td>\n",
       "      <td>unrelated</td>\n",
       "    </tr>\n",
       "    <tr>\n",
       "      <th>1</th>\n",
       "      <td>0</td>\n",
       "      <td>A small meteorite crashed into a wooded area i...</td>\n",
       "      <td>Tourist dubbed ‘Spider Man’ after spider burro...</td>\n",
       "      <td>unrelated</td>\n",
       "    </tr>\n",
       "    <tr>\n",
       "      <th>2</th>\n",
       "      <td>0</td>\n",
       "      <td>A small meteorite crashed into a wooded area i...</td>\n",
       "      <td>Luke Somers 'killed in failed rescue attempt i...</td>\n",
       "      <td>unrelated</td>\n",
       "    </tr>\n",
       "    <tr>\n",
       "      <th>3</th>\n",
       "      <td>0</td>\n",
       "      <td>A small meteorite crashed into a wooded area i...</td>\n",
       "      <td>BREAKING: Soldier shot at War Memorial in Ottawa</td>\n",
       "      <td>unrelated</td>\n",
       "    </tr>\n",
       "    <tr>\n",
       "      <th>4</th>\n",
       "      <td>0</td>\n",
       "      <td>A small meteorite crashed into a wooded area i...</td>\n",
       "      <td>Giant 8ft 9in catfish weighing 19 stone caught...</td>\n",
       "      <td>unrelated</td>\n",
       "    </tr>\n",
       "  </tbody>\n",
       "</table>\n",
       "</div>"
      ],
      "text/plain": [
       "   Body ID  ...     Stance\n",
       "0        0  ...  unrelated\n",
       "1        0  ...  unrelated\n",
       "2        0  ...  unrelated\n",
       "3        0  ...  unrelated\n",
       "4        0  ...  unrelated\n",
       "\n",
       "[5 rows x 4 columns]"
      ]
     },
     "execution_count": 16,
     "metadata": {
      "tags": []
     },
     "output_type": "execute_result"
    }
   ],
   "source": [
    "dataset.head()"
   ]
  },
  {
   "cell_type": "markdown",
   "metadata": {
    "colab_type": "text",
    "id": "Xj_bd15mTjxi"
   },
   "source": [
    "**Otained the required output after reding the Dataset**"
   ]
  },
  {
   "cell_type": "markdown",
   "metadata": {
    "colab_type": "text",
    "id": "g4ycQbBCg20S"
   },
   "source": [
    "\n",
    "<h2> Check1:</h2>\n",
    "  \n",
    "<h3> You should see the below output if you run `dataset.head()` command as given below </h3>"
   ]
  },
  {
   "cell_type": "code",
   "execution_count": 14,
   "metadata": {
    "colab": {
     "base_uri": "https://localhost:8080/",
     "height": 206
    },
    "colab_type": "code",
    "id": "ElCQvXflPz6t",
    "outputId": "ffe4143f-856f-4a00-d265-6556f7607ddc"
   },
   "outputs": [
    {
     "data": {
      "text/html": [
       "<div>\n",
       "<style scoped>\n",
       "    .dataframe tbody tr th:only-of-type {\n",
       "        vertical-align: middle;\n",
       "    }\n",
       "\n",
       "    .dataframe tbody tr th {\n",
       "        vertical-align: top;\n",
       "    }\n",
       "\n",
       "    .dataframe thead th {\n",
       "        text-align: right;\n",
       "    }\n",
       "</style>\n",
       "<table border=\"1\" class=\"dataframe\">\n",
       "  <thead>\n",
       "    <tr style=\"text-align: right;\">\n",
       "      <th></th>\n",
       "      <th>Body ID</th>\n",
       "      <th>articleBody</th>\n",
       "      <th>Headline</th>\n",
       "      <th>Stance</th>\n",
       "    </tr>\n",
       "  </thead>\n",
       "  <tbody>\n",
       "    <tr>\n",
       "      <th>0</th>\n",
       "      <td>0</td>\n",
       "      <td>A small meteorite crashed into a wooded area i...</td>\n",
       "      <td>Soldier shot, Parliament locked down after gun...</td>\n",
       "      <td>unrelated</td>\n",
       "    </tr>\n",
       "    <tr>\n",
       "      <th>1</th>\n",
       "      <td>0</td>\n",
       "      <td>A small meteorite crashed into a wooded area i...</td>\n",
       "      <td>Tourist dubbed ‘Spider Man’ after spider burro...</td>\n",
       "      <td>unrelated</td>\n",
       "    </tr>\n",
       "    <tr>\n",
       "      <th>2</th>\n",
       "      <td>0</td>\n",
       "      <td>A small meteorite crashed into a wooded area i...</td>\n",
       "      <td>Luke Somers 'killed in failed rescue attempt i...</td>\n",
       "      <td>unrelated</td>\n",
       "    </tr>\n",
       "    <tr>\n",
       "      <th>3</th>\n",
       "      <td>0</td>\n",
       "      <td>A small meteorite crashed into a wooded area i...</td>\n",
       "      <td>BREAKING: Soldier shot at War Memorial in Ottawa</td>\n",
       "      <td>unrelated</td>\n",
       "    </tr>\n",
       "    <tr>\n",
       "      <th>4</th>\n",
       "      <td>0</td>\n",
       "      <td>A small meteorite crashed into a wooded area i...</td>\n",
       "      <td>Giant 8ft 9in catfish weighing 19 stone caught...</td>\n",
       "      <td>unrelated</td>\n",
       "    </tr>\n",
       "  </tbody>\n",
       "</table>\n",
       "</div>"
      ],
      "text/plain": [
       "   Body ID  ...     Stance\n",
       "0        0  ...  unrelated\n",
       "1        0  ...  unrelated\n",
       "2        0  ...  unrelated\n",
       "3        0  ...  unrelated\n",
       "4        0  ...  unrelated\n",
       "\n",
       "[5 rows x 4 columns]"
      ]
     },
     "execution_count": 14,
     "metadata": {
      "tags": []
     },
     "output_type": "execute_result"
    }
   ],
   "source": [
    "dataset.head()"
   ]
  },
  {
   "cell_type": "code",
   "execution_count": 0,
   "metadata": {
    "colab": {},
    "colab_type": "code",
    "id": "y3CcgmU-R1F-"
   },
   "outputs": [],
   "source": []
  },
  {
   "cell_type": "code",
   "execution_count": 0,
   "metadata": {
    "colab": {},
    "colab_type": "code",
    "id": "F2tTYQchR1S8"
   },
   "outputs": [],
   "source": []
  },
  {
   "cell_type": "code",
   "execution_count": 19,
   "metadata": {
    "colab": {
     "base_uri": "https://localhost:8080/",
     "height": 235
    },
    "colab_type": "code",
    "id": "IUtF7iOmj11k",
    "outputId": "8df5c88d-dd9c-48ce-d51a-8c9ca0954fda"
   },
   "outputs": [
    {
     "data": {
      "text/plain": [
       "0        A small meteorite crashed into a wooded area i...\n",
       "1        A small meteorite crashed into a wooded area i...\n",
       "2        A small meteorite crashed into a wooded area i...\n",
       "3        A small meteorite crashed into a wooded area i...\n",
       "4        A small meteorite crashed into a wooded area i...\n",
       "                               ...                        \n",
       "49967    ANN ARBOR, Mich. – A pizza delivery man in Mic...\n",
       "49968    ANN ARBOR, Mich. – A pizza delivery man in Mic...\n",
       "49969    ANN ARBOR, Mich. – A pizza delivery man in Mic...\n",
       "49970    ANN ARBOR, Mich. – A pizza delivery man in Mic...\n",
       "49971    ANN ARBOR, Mich. – A pizza delivery man in Mic...\n",
       "Name: articleBody, Length: 49972, dtype: object"
      ]
     },
     "execution_count": 19,
     "metadata": {
      "tags": []
     },
     "output_type": "execute_result"
    }
   ],
   "source": [
    "\n",
    "dataset['articleBody']"
   ]
  },
  {
   "cell_type": "markdown",
   "metadata": {
    "colab_type": "text",
    "id": "tjzVz2ifijmj"
   },
   "source": [
    "## Step2: Data Pre-processing and setting some hyper parameters needed for model\n",
    "\n",
    "\n",
    "#### Run the code given below to set the required parameters.\n",
    "\n",
    "1. `MAX_SENTS` = Maximum no.of sentences to consider in an article.\n",
    "\n",
    "2. `MAX_SENT_LENGTH` = Maximum no.of words to consider in a sentence.\n",
    "\n",
    "3. `MAX_NB_WORDS` = Maximum no.of words in the total vocabualry.\n",
    "\n",
    "4. `MAX_SENTS_HEADING` = Maximum no.of sentences to consider in a heading of an article."
   ]
  },
  {
   "cell_type": "code",
   "execution_count": 0,
   "metadata": {
    "colab": {},
    "colab_type": "code",
    "id": "KDXSdpvqjuqw"
   },
   "outputs": [],
   "source": [
    "MAX_NB_WORDS = 30000\n",
    "MAX_SENTS = 20\n",
    "MAX_SENTS_HEADING = 1\n",
    "MAX_SENT_LENGTH = 20\n",
    "VALIDATION_SPLIT = 0.2"
   ]
  },
  {
   "cell_type": "markdown",
   "metadata": {
    "colab_type": "text",
    "id": "zwE7CPHdiDT-"
   },
   "source": [
    "### Download the `Punkt` from nltk using the commands given below. This is for sentence tokenization.\n",
    "\n",
    "For more info on how to use it, read [this](https://stackoverflow.com/questions/35275001/use-of-punktsentencetokenizer-in-nltk).\n",
    "\n"
   ]
  },
  {
   "cell_type": "code",
   "execution_count": 21,
   "metadata": {
    "colab": {
     "base_uri": "https://localhost:8080/",
     "height": 72
    },
    "colab_type": "code",
    "id": "lsiKmyJUZ-hU",
    "outputId": "e8e12f79-12aa-4147-c4c0-b49fd96b9ba2"
   },
   "outputs": [
    {
     "name": "stdout",
     "output_type": "stream",
     "text": [
      "[nltk_data] Downloading package punkt to /root/nltk_data...\n",
      "[nltk_data]   Unzipping tokenizers/punkt.zip.\n"
     ]
    },
    {
     "data": {
      "text/plain": [
       "True"
      ]
     },
     "execution_count": 21,
     "metadata": {
      "tags": []
     },
     "output_type": "execute_result"
    }
   ],
   "source": [
    "import nltk\n",
    "nltk.download('punkt')"
   ]
  },
  {
   "cell_type": "markdown",
   "metadata": {
    "colab_type": "text",
    "id": "Gqwm_GbwwnhX"
   },
   "source": [
    "# Tokenizing the text and loading the pre-trained Glove word embeddings for each token  [5 marks] "
   ]
  },
  {
   "cell_type": "markdown",
   "metadata": {
    "colab_type": "text",
    "id": "WfZLR24mm32k"
   },
   "source": [
    "Keras provides [Tokenizer API](https://keras.io/preprocessing/text/) for preparing text. Read it before going any further."
   ]
  },
  {
   "cell_type": "markdown",
   "metadata": {
    "colab_type": "text",
    "id": "fLSn9S-5oG4Z"
   },
   "source": [
    "#### Import the Tokenizer from keras preprocessing text"
   ]
  },
  {
   "cell_type": "code",
   "execution_count": 0,
   "metadata": {
    "colab": {},
    "colab_type": "code",
    "id": "lfqlHzkHZ_FH"
   },
   "outputs": [],
   "source": [
    "import tensorflow as tf\n",
    "from keras.models import Sequential\n",
    "from keras.layers import Dense, Embedding, Dropout, Flatten"
   ]
  },
  {
   "cell_type": "code",
   "execution_count": 0,
   "metadata": {
    "colab": {},
    "colab_type": "code",
    "id": "H71zGnYlaPXS"
   },
   "outputs": [],
   "source": [
    "import keras\n",
    "from keras.preprocessing.text import Tokenizer\n",
    "from nltk.tokenize import sent_tokenize\n"
   ]
  },
  {
   "cell_type": "markdown",
   "metadata": {
    "colab_type": "text",
    "id": "eml0Lge4oOuh"
   },
   "source": [
    "#### Initialize the Tokenizer class with maximum vocabulary count as `MAX_NB_WORDS` initialized at the start of step2. "
   ]
  },
  {
   "cell_type": "code",
   "execution_count": 0,
   "metadata": {
    "colab": {},
    "colab_type": "code",
    "id": "Qm85qirPofc2"
   },
   "outputs": [],
   "source": [
    "keras.preprocessing.text.Tokenizer(num_words = MAX_NB_WORDS, filters = '!\"#$%&()*+,-./:;<=>?@[\\\\]^_`{|}~\\t\\n',oov_token = 0)\n",
    "t = Tokenizer()"
   ]
  },
  {
   "cell_type": "markdown",
   "metadata": {
    "colab_type": "text",
    "id": "HBe1KuXDosJ7"
   },
   "source": [
    "#### Now, using fit_on_texts() from Tokenizer class, lets encode the data \n",
    "\n",
    "Note: We need to fit articleBody and Headline also to cover all the words."
   ]
  },
  {
   "cell_type": "code",
   "execution_count": 0,
   "metadata": {
    "colab": {},
    "colab_type": "code",
    "id": "Q5rk-UyBlmyA"
   },
   "outputs": [],
   "source": [
    "t.fit_on_texts(dataset['articleBody'])"
   ]
  },
  {
   "cell_type": "code",
   "execution_count": 0,
   "metadata": {
    "colab": {},
    "colab_type": "code",
    "id": "rj6t-c6Ji8MZ"
   },
   "outputs": [],
   "source": [
    "t.fit_on_texts(dataset['Headline'])"
   ]
  },
  {
   "cell_type": "markdown",
   "metadata": {
    "colab_type": "text",
    "id": "omptHX-JpBsN"
   },
   "source": [
    "#### fit_on_texts() gives the following attributes in the output as given [here](https://faroit.github.io/keras-docs/1.2.2/preprocessing/text/).\n",
    "\n",
    "* **word_counts:** dictionary mapping words (str) to the number of times they appeared on during fit. Only set after fit_on_texts was called.\n",
    "\n",
    "* **word_docs:** dictionary mapping words (str) to the number of documents/texts they appeared on during fit. Only set after fit_on_texts was called.\n",
    "\n",
    "* **word_index:** dictionary mapping words (str) to their rank/index (int). Only set after fit_on_texts was called.\n",
    "\n",
    "* **document_count:** int. Number of documents (texts/sequences) the tokenizer was trained on. Only set after fit_on_texts or fit_on_sequences was called.\n",
    "\n"
   ]
  },
  {
   "cell_type": "markdown",
   "metadata": {
    "colab_type": "text",
    "id": "SHnsT2sTtFAA"
   },
   "source": [
    "### Now, tokenize the sentences using nltk sent_tokenize() and encode the senteces with the ids we got form the above `t.word_index`\n",
    "\n",
    "Initialise 2 lists with names `texts` and `articles`.\n",
    "\n",
    "```\n",
    "texts = [] to store text of article as it is.\n",
    "\n",
    "articles = [] split the above text into a list of sentences.\n",
    "```"
   ]
  },
  {
   "cell_type": "code",
   "execution_count": 0,
   "metadata": {
    "colab": {},
    "colab_type": "code",
    "id": "pWAyEMmV729j"
   },
   "outputs": [],
   "source": [
    "texts = []\n",
    "articles = []"
   ]
  },
  {
   "cell_type": "code",
   "execution_count": 0,
   "metadata": {
    "colab": {},
    "colab_type": "code",
    "id": "ctEu-d4c4EZs"
   },
   "outputs": [],
   "source": [
    " for i, row in dataset.iterrows():\n",
    "   texts.append(row['articleBody'])\n",
    "   articles.append(sent_tokenize(row['articleBody']))\n",
    " "
   ]
  },
  {
   "cell_type": "code",
   "execution_count": 29,
   "metadata": {
    "colab": {
     "base_uri": "https://localhost:8080/",
     "height": 55
    },
    "colab_type": "code",
    "id": "JuA7qr2i8xD8",
    "outputId": "c4c1a49c-4e6e-4eec-f68b-1cf3ac9ed1d2"
   },
   "outputs": [
    {
     "data": {
      "text/plain": [
       "'A small meteorite crashed into a wooded area in Nicaragua\\'s capital of Managua overnight, the government said Sunday. Residents reported hearing a mysterious boom that left a 16-foot deep crater near the city\\'s airport, the Associated Press reports. \\n\\nGovernment spokeswoman Rosario Murillo said a committee formed by the government to study the event determined it was a \"relatively small\" meteorite that \"appears to have come off an asteroid that was passing close to Earth.\" House-sized asteroid 2014 RC, which measured 60 feet in diameter, skimmed the Earth this weekend, ABC News reports. \\nMurillo said Nicaragua will ask international experts to help local scientists in understanding what happened.\\n\\nThe crater left by the meteorite had a radius of 39 feet and a depth of 16 feet,  said Humberto Saballos, a volcanologist with the Nicaraguan Institute of Territorial Studies who was on the committee. He said it is still not clear if the meteorite disintegrated or was buried.\\n\\nHumberto Garcia, of the Astronomy Center at the National Autonomous University of Nicaragua, said the meteorite could be related to an asteroid that was forecast to pass by the planet Saturday night.\\n\\n\"We have to study it more because it could be ice or rock,\" he said.\\n\\nWilfried Strauch, an adviser to the Institute of Territorial Studies, said it was \"very strange that no one reported a streak of light. We have to ask if anyone has a photo or something.\"\\n\\nLocal residents reported hearing a loud boom Saturday night, but said they didn\\'t see anything strange in the sky.\\n\\n\"I was sitting on my porch and I saw nothing, then all of a sudden I heard a large blast. We thought it was a bomb because we felt an expansive wave,\" Jorge Santamaria told The Associated Press.\\n\\nThe site of the crater is near Managua\\'s international airport and an air force base. Only journalists from state media were allowed to visit it.'"
      ]
     },
     "execution_count": 29,
     "metadata": {
      "tags": []
     },
     "output_type": "execute_result"
    }
   ],
   "source": [
    "texts[0]"
   ]
  },
  {
   "cell_type": "code",
   "execution_count": 30,
   "metadata": {
    "colab": {
     "base_uri": "https://localhost:8080/",
     "height": 328
    },
    "colab_type": "code",
    "id": "dACVCh3W8z6h",
    "outputId": "daec58fe-9738-44d4-d613-84ca3ab2014f"
   },
   "outputs": [
    {
     "data": {
      "text/plain": [
       "[\"A small meteorite crashed into a wooded area in Nicaragua's capital of Managua overnight, the government said Sunday.\",\n",
       " \"Residents reported hearing a mysterious boom that left a 16-foot deep crater near the city's airport, the Associated Press reports.\",\n",
       " 'Government spokeswoman Rosario Murillo said a committee formed by the government to study the event determined it was a \"relatively small\" meteorite that \"appears to have come off an asteroid that was passing close to Earth.\"',\n",
       " 'House-sized asteroid 2014 RC, which measured 60 feet in diameter, skimmed the Earth this weekend, ABC News reports.',\n",
       " 'Murillo said Nicaragua will ask international experts to help local scientists in understanding what happened.',\n",
       " 'The crater left by the meteorite had a radius of 39 feet and a depth of 16 feet,  said Humberto Saballos, a volcanologist with the Nicaraguan Institute of Territorial Studies who was on the committee.',\n",
       " 'He said it is still not clear if the meteorite disintegrated or was buried.',\n",
       " 'Humberto Garcia, of the Astronomy Center at the National Autonomous University of Nicaragua, said the meteorite could be related to an asteroid that was forecast to pass by the planet Saturday night.',\n",
       " '\"We have to study it more because it could be ice or rock,\" he said.',\n",
       " 'Wilfried Strauch, an adviser to the Institute of Territorial Studies, said it was \"very strange that no one reported a streak of light.',\n",
       " 'We have to ask if anyone has a photo or something.\"',\n",
       " \"Local residents reported hearing a loud boom Saturday night, but said they didn't see anything strange in the sky.\",\n",
       " '\"I was sitting on my porch and I saw nothing, then all of a sudden I heard a large blast.',\n",
       " 'We thought it was a bomb because we felt an expansive wave,\" Jorge Santamaria told The Associated Press.',\n",
       " \"The site of the crater is near Managua's international airport and an air force base.\",\n",
       " 'Only journalists from state media were allowed to visit it.']"
      ]
     },
     "execution_count": 30,
     "metadata": {
      "tags": []
     },
     "output_type": "execute_result"
    }
   ],
   "source": [
    "articles[0]"
   ]
  },
  {
   "cell_type": "markdown",
   "metadata": {
    "colab_type": "text",
    "id": "u1KHTMx7UBwr"
   },
   "source": [
    "FIRST ELEMENTS OF ARTICLES AND TEXTS MATCH THE REQUIRED OUTPUT"
   ]
  },
  {
   "cell_type": "markdown",
   "metadata": {
    "colab_type": "text",
    "id": "koTVJjoO6P78"
   },
   "source": [
    "## Check 2:\n",
    "\n",
    "first element of texts and articles should be as given below. "
   ]
  },
  {
   "cell_type": "code",
   "execution_count": 31,
   "metadata": {
    "colab": {
     "base_uri": "https://localhost:8080/",
     "height": 55
    },
    "colab_type": "code",
    "id": "3mWBW99p5UW9",
    "outputId": "a77cf136-41d0-40c6-e4c6-5d60ab92663b"
   },
   "outputs": [
    {
     "data": {
      "text/plain": [
       "'A small meteorite crashed into a wooded area in Nicaragua\\'s capital of Managua overnight, the government said Sunday. Residents reported hearing a mysterious boom that left a 16-foot deep crater near the city\\'s airport, the Associated Press reports. \\n\\nGovernment spokeswoman Rosario Murillo said a committee formed by the government to study the event determined it was a \"relatively small\" meteorite that \"appears to have come off an asteroid that was passing close to Earth.\" House-sized asteroid 2014 RC, which measured 60 feet in diameter, skimmed the Earth this weekend, ABC News reports. \\nMurillo said Nicaragua will ask international experts to help local scientists in understanding what happened.\\n\\nThe crater left by the meteorite had a radius of 39 feet and a depth of 16 feet,  said Humberto Saballos, a volcanologist with the Nicaraguan Institute of Territorial Studies who was on the committee. He said it is still not clear if the meteorite disintegrated or was buried.\\n\\nHumberto Garcia, of the Astronomy Center at the National Autonomous University of Nicaragua, said the meteorite could be related to an asteroid that was forecast to pass by the planet Saturday night.\\n\\n\"We have to study it more because it could be ice or rock,\" he said.\\n\\nWilfried Strauch, an adviser to the Institute of Territorial Studies, said it was \"very strange that no one reported a streak of light. We have to ask if anyone has a photo or something.\"\\n\\nLocal residents reported hearing a loud boom Saturday night, but said they didn\\'t see anything strange in the sky.\\n\\n\"I was sitting on my porch and I saw nothing, then all of a sudden I heard a large blast. We thought it was a bomb because we felt an expansive wave,\" Jorge Santamaria told The Associated Press.\\n\\nThe site of the crater is near Managua\\'s international airport and an air force base. Only journalists from state media were allowed to visit it.'"
      ]
     },
     "execution_count": 31,
     "metadata": {
      "tags": []
     },
     "output_type": "execute_result"
    }
   ],
   "source": [
    "texts[0]"
   ]
  },
  {
   "cell_type": "code",
   "execution_count": 32,
   "metadata": {
    "colab": {
     "base_uri": "https://localhost:8080/",
     "height": 328
    },
    "colab_type": "code",
    "id": "WtIjO3ht5EKA",
    "outputId": "a5781754-83c5-412a-c043-4c7b1e59f1d8"
   },
   "outputs": [
    {
     "data": {
      "text/plain": [
       "[\"A small meteorite crashed into a wooded area in Nicaragua's capital of Managua overnight, the government said Sunday.\",\n",
       " \"Residents reported hearing a mysterious boom that left a 16-foot deep crater near the city's airport, the Associated Press reports.\",\n",
       " 'Government spokeswoman Rosario Murillo said a committee formed by the government to study the event determined it was a \"relatively small\" meteorite that \"appears to have come off an asteroid that was passing close to Earth.\"',\n",
       " 'House-sized asteroid 2014 RC, which measured 60 feet in diameter, skimmed the Earth this weekend, ABC News reports.',\n",
       " 'Murillo said Nicaragua will ask international experts to help local scientists in understanding what happened.',\n",
       " 'The crater left by the meteorite had a radius of 39 feet and a depth of 16 feet,  said Humberto Saballos, a volcanologist with the Nicaraguan Institute of Territorial Studies who was on the committee.',\n",
       " 'He said it is still not clear if the meteorite disintegrated or was buried.',\n",
       " 'Humberto Garcia, of the Astronomy Center at the National Autonomous University of Nicaragua, said the meteorite could be related to an asteroid that was forecast to pass by the planet Saturday night.',\n",
       " '\"We have to study it more because it could be ice or rock,\" he said.',\n",
       " 'Wilfried Strauch, an adviser to the Institute of Territorial Studies, said it was \"very strange that no one reported a streak of light.',\n",
       " 'We have to ask if anyone has a photo or something.\"',\n",
       " \"Local residents reported hearing a loud boom Saturday night, but said they didn't see anything strange in the sky.\",\n",
       " '\"I was sitting on my porch and I saw nothing, then all of a sudden I heard a large blast.',\n",
       " 'We thought it was a bomb because we felt an expansive wave,\" Jorge Santamaria told The Associated Press.',\n",
       " \"The site of the crater is near Managua's international airport and an air force base.\",\n",
       " 'Only journalists from state media were allowed to visit it.']"
      ]
     },
     "execution_count": 32,
     "metadata": {
      "tags": []
     },
     "output_type": "execute_result"
    }
   ],
   "source": [
    "articles[0]"
   ]
  },
  {
   "cell_type": "code",
   "execution_count": 0,
   "metadata": {
    "colab": {},
    "colab_type": "code",
    "id": "SAjx63_JRvsM"
   },
   "outputs": [],
   "source": []
  },
  {
   "cell_type": "code",
   "execution_count": 0,
   "metadata": {
    "colab": {},
    "colab_type": "code",
    "id": "Aeo_tUUcRv58"
   },
   "outputs": [],
   "source": []
  },
  {
   "cell_type": "markdown",
   "metadata": {
    "colab_type": "text",
    "id": "fpuRIA7cCfcY"
   },
   "source": [
    "# Now iterate through each article and each sentence to encode the words into ids using t.word_index  [5 marks] \n",
    "\n",
    "Here, to get words from sentence you can use `text_to_word_sequence` from keras preprocessing text.\n",
    "\n",
    "1. Import text_to_word_sequence\n",
    "\n",
    "2. Initialize a variable of shape (no.of articles, MAX_SENTS, MAX_SENT_LENGTH) with name `data` with zeros first (you can use numpy [np.zeros](https://docs.scipy.org/doc/numpy/reference/generated/numpy.zeros.html) to initialize with all zeros)and then update it while iterating through the words and sentences in each article."
   ]
  },
  {
   "cell_type": "code",
   "execution_count": 0,
   "metadata": {
    "colab": {},
    "colab_type": "code",
    "id": "YVyClBULCqWj"
   },
   "outputs": [],
   "source": [
    "from keras.preprocessing import text\n",
    "from keras.preprocessing.sequence import pad_sequences\n",
    "import numpy as np\n",
    "MAX_SENT_LENGTH = 20\n",
    "MAX_SENTS = 20\n",
    "NUM_ARTICLES = dataset.shape[0]"
   ]
  },
  {
   "cell_type": "code",
   "execution_count": 0,
   "metadata": {
    "colab": {},
    "colab_type": "code",
    "id": "3LIWsYyWBI8G"
   },
   "outputs": [],
   "source": [
    "data = np.zeros(shape = (NUM_ARTICLES,MAX_SENTS,MAX_SENT_LENGTH), dtype = 'int32')"
   ]
  },
  {
   "cell_type": "code",
   "execution_count": 35,
   "metadata": {
    "colab": {
     "base_uri": "https://localhost:8080/",
     "height": 35
    },
    "colab_type": "code",
    "id": "Y0utE5msCH-j",
    "outputId": "1f72b626-4abf-4570-d967-9f9a5042c412"
   },
   "outputs": [
    {
     "data": {
      "text/plain": [
       "(49972, 20, 20)"
      ]
     },
     "execution_count": 35,
     "metadata": {
      "tags": []
     },
     "output_type": "execute_result"
    }
   ],
   "source": [
    "data.shape"
   ]
  },
  {
   "cell_type": "code",
   "execution_count": 0,
   "metadata": {
    "colab": {},
    "colab_type": "code",
    "id": "9AL66sP6UIb-"
   },
   "outputs": [],
   "source": []
  },
  {
   "cell_type": "markdown",
   "metadata": {
    "colab_type": "text",
    "id": "yhSzidgXUn0X"
   },
   "source": [
    "### Limiting the maximum number of sentences in an article to 20"
   ]
  },
  {
   "cell_type": "code",
   "execution_count": 0,
   "metadata": {
    "colab": {},
    "colab_type": "code",
    "id": "uhwqKEfdLz4O"
   },
   "outputs": [],
   "source": [
    "final_articles = articles\n",
    "for i,row in dataset.iterrows():\n",
    "  if len(articles[i])>MAX_SENTS:\n",
    "     final_articles[i]=articles[i][:20]\n"
   ]
  },
  {
   "cell_type": "code",
   "execution_count": 0,
   "metadata": {
    "colab": {},
    "colab_type": "code",
    "id": "sD1pKhJmODke"
   },
   "outputs": [],
   "source": [
    "length = []\n",
    "for i,row in dataset.iterrows():\n",
    "  length.append(len(final_articles[i]))"
   ]
  },
  {
   "cell_type": "markdown",
   "metadata": {
    "colab_type": "text",
    "id": "NTJr3vt4UNj3"
   },
   "source": [
    "### Limiting the maximum number of sentences in an article to 20 "
   ]
  },
  {
   "cell_type": "code",
   "execution_count": 0,
   "metadata": {
    "colab": {},
    "colab_type": "code",
    "id": "SGMWu-txgeTk"
   },
   "outputs": [],
   "source": [
    "\n",
    "for i in range(len(dataset)):\n",
    "  for j in range(len(articles[i])):\n",
    "    word_tokens = text.text_to_word_sequence(final_articles[i][j], lower = False) ## Obtaining words from each sentence\n",
    "    X = [[t.word_index[word.lower()] for word in word_tokens] for sent in final_articles[i]] ## tokenizing the word of each sentence using t.word_index\n",
    "    truncated = pad_sequences(X, maxlen = MAX_SENT_LENGTH, padding = 'post', truncating='post')  ## Padding the sentence\n",
    "    data[i,j,:] = truncated[j,:]  ## Updating the \"data\" array with tokens\n",
    "    "
   ]
  },
  {
   "cell_type": "code",
   "execution_count": 39,
   "metadata": {
    "colab": {
     "base_uri": "https://localhost:8080/",
     "height": 400
    },
    "colab_type": "code",
    "id": "YYt-pUBJKBfR",
    "outputId": "f98d6a39-18a0-4458-e4c7-bf5cdd358cc5"
   },
   "outputs": [
    {
     "data": {
      "text/plain": [
       "['There is so much fake stuff on the Internet in any given week that we’ve grown tired of debunking it all.',\n",
       " 'Fake Twitter fights.',\n",
       " 'Fake DHL ads.',\n",
       " 'Amazing viral video?',\n",
       " 'Nope — a Jimmy Kimmel stunt!',\n",
       " 'So, rather than take down each and every undeservedly viral story that crosses our monitors each week, we’re rounding them all up in a quick, once-a-week Friday debunk of fake photos, misleading headlines and bad studies that you probably shouldn’t share over the weekend.',\n",
       " 'Ready?',\n",
       " 'Here’s what was fake on the Internet this week:\\n\\n1.',\n",
       " 'The Nobel Committee doesn’t “regret” giving President Obama the Peace Prize.',\n",
       " 'According to an invented “news release” uploaded to Scribd by the prominent blogger and anti-war activist David Swanson, the Nobel Institute can’t retract Obama’s 2009 Peace Prize — but wishes it could.',\n",
       " '“It remains the obligation of the Committee to disassociate itself from actions taken by laureates that frustrate rather than advancing [sic] the fraternity between nations,” the statement reads.',\n",
       " '(Pro-tip: International organizations rarely make glaring grammatical errors in major statements.)',\n",
       " '“The Committee therefore joins with the public statements of several Nobel Peace Laureates in expressing its regrets over the conduct of the 2009 prize recipient.” The announcement has since been picked up by a number of right-wing outlets, including Before It’s News.',\n",
       " 'The only problem, of course: It isn’t true.',\n",
       " 'Dear Internet: The Nobel committee ″regrets” giving Obama the 2009 peace prize story is bogus.',\n",
       " 'I just spoke with the head of the institute\\n\\n2.',\n",
       " 'There is no-such thing as a “pumpkin-spice-flavored condom.” Though considering the social media response to the idea, some enterprising company may want to give it a try.',\n",
       " 'A Photoshopped image of the “limited edition” Durex condom circulated widely on Twitter and Facebook last week before a punny statement from Durex punctured the hoax: “We can’t claim this one,” the company said, “but we do love it when people spice it up in the bedroom.” Har har.',\n",
       " 'In unrelated pumpkin-spice news, the limited-edition Oreos of the flavor are apparently quite real.',\n",
       " 'We’ve officially reached Pumpkin Spice saturation point.']"
      ]
     },
     "execution_count": 39,
     "metadata": {
      "tags": []
     },
     "output_type": "execute_result"
    }
   ],
   "source": [
    "(articles[196])"
   ]
  },
  {
   "cell_type": "code",
   "execution_count": 40,
   "metadata": {
    "colab": {
     "base_uri": "https://localhost:8080/",
     "height": 1000
    },
    "colab_type": "code",
    "id": "ufdAbBVeivZD",
    "outputId": "219d5684-39f8-4ba1-9c46-2a302b02f8d0"
   },
   "outputs": [
    {
     "data": {
      "text/plain": [
       "array([[   61,     8,    83,   268,   457,  2896,    10,     1,   420,\n",
       "            5,    98,   423,   169,     7,  2327,  2752,  4807,     4,\n",
       "         4737,    15],\n",
       "       [  457,   148,  6905,     0,     0,     0,     0,     0,     0,\n",
       "            0,     0,     0,     0,     0,     0,     0,     0,     0,\n",
       "            0,     0],\n",
       "       [  457, 16399,  3069,     0,     0,     0,     0,     0,     0,\n",
       "            0,     0,     0,     0,     0,     0,     0,     0,     0,\n",
       "            0,     0],\n",
       "       [ 2272,   783,    43,     0,     0,     0,     0,     0,     0,\n",
       "            0,     0,     0,     0,     0,     0,     0,     0,     0,\n",
       "            0,     0],\n",
       "       [ 8165,    91,     3,  5470, 16400,  4282,     0,     0,     0,\n",
       "            0,     0,     0,     0,     0,     0,     0,     0,     0,\n",
       "            0,     0],\n",
       "       [   83,  1197,   102,   281,   193,   401,     6,   644, 16401,\n",
       "          783,   112,     7, 15392,   131,  3764,   401,   169,  1665,\n",
       "        16402,    94],\n",
       "       [ 1375,     0,     0,     0,     0,     0,     0,     0,     0,\n",
       "            0,     0,     0,     0,     0,     0,     0,     0,     0,\n",
       "            0,     0],\n",
       "       [ 2155,    70,     9,   457,    10,     1,   420,    31,   169,\n",
       "          305,     0,     0,     0,     0,     0,     0,     0,     0,\n",
       "            0,     0],\n",
       "       [    1,  6108,  1092,   973, 16403,  1680,   218,   188,     1,\n",
       "         1446,  3816,     0,     0,     0,     0,     0,     0,     0,\n",
       "            0,     0],\n",
       "       [   78,     2,    24,  7418, 13581, 16404,  1144,     2, 16405,\n",
       "           19,     1,  4197,  2815,     6,  1142,   233,  3657,   461,\n",
       "        16406,     1],\n",
       "       [  923,   789,     1, 12687,     4,     1,  1092,     2, 16408,\n",
       "         1187,    22,  2550,   222,    19, 11778,     7, 16409,  1197,\n",
       "          102,  3043],\n",
       "       [  812,  2379,   351,  1649,  4848,   213, 16154, 12545, 12546,\n",
       "            5,   701,  1162,     0,     0,     0,     0,     0,     0,\n",
       "            0,     0],\n",
       "       [  345,  1092,  3280, 14210,    14,     1,   220,  1162,     4,\n",
       "          232,  6108,  1446, 11778,     5,  4053,    63, 16410,    75,\n",
       "            1,  4161],\n",
       "       [    1,   126,   755,     4,   990,    15,  1188,   447,     0,\n",
       "            0,     0,     0,     0,     0,     0,     0,     0,     0,\n",
       "            0,     0],\n",
       "       [13793,   420,     1,  6108,  1092, 16412,  1680,   188,     1,\n",
       "         1344,  1446,  3816,   112,     8,  3011,     0,     0,     0,\n",
       "            0,     0],\n",
       "       [   35,    86,   731,    14,     1,   301,     4,     1,  1316,\n",
       "          284,     0,     0,     0,     0,     0,     0,     0,     0,\n",
       "            0,     0],\n",
       "       [   61,     8,    58,   256,   567,    18,     3, 11601,   621,\n",
       "         2293,  1342,    28,   273,  1614,     1,   300,   100,  1229,\n",
       "            2,     1],\n",
       "       [    3,  6058,   445,     4,     1, 16413, 16414,  1253,  1342,\n",
       "         1726,  1697,    10,   148,     6,   277,    87,   169,   103,\n",
       "            3, 16415],\n",
       "       [    5,  5826,   702,   621,    67,     1,  1879,   734, 10440,\n",
       "            4,     1,  7784,    26,   469,  1054,   304,     0,     0,\n",
       "            0,     0],\n",
       "       [ 2327,  1376,   744,   702,   621, 11602,   511,     0,     0,\n",
       "            0,     0,     0,     0,     0,     0,     0,     0,     0,\n",
       "            0,     0]], dtype=int32)"
      ]
     },
     "execution_count": 40,
     "metadata": {
      "tags": []
     },
     "output_type": "execute_result"
    }
   ],
   "source": [
    "data[196,:,:]"
   ]
  },
  {
   "cell_type": "code",
   "execution_count": 41,
   "metadata": {
    "colab": {
     "base_uri": "https://localhost:8080/",
     "height": 1000
    },
    "colab_type": "code",
    "id": "Fj5GQ8b4Zycd",
    "outputId": "4a38edf3-5eb2-46de-e215-69b1b6200262"
   },
   "outputs": [
    {
     "data": {
      "text/plain": [
       "array([[    3,   481,   427,  7211,    81,     3,  3733,   331,     5,\n",
       "         3891,   350,     4,  1431,  2958,     1,    89,    12,   464,\n",
       "            0,     0],\n",
       "       [  758,    95,  1047,     3,  2679,  1752,     7,   189,     3,\n",
       "         1217,  1075,  2030,   700,   159,     1,  3032,   448,     1,\n",
       "          555,   235],\n",
       "       [   89,  1067,  4115,  2349,    12,     3,  1092,  3306,    19,\n",
       "            1,    89,     2,  1793,     1,   521,  2009,    15,     9,\n",
       "            3,  3111],\n",
       "       [  181,  3640,   972,   200,  2556,    44,  6775,  1722,  1252,\n",
       "            5, 13317, 17936,     1,   778,    31,   740,  3990,    67,\n",
       "           85,     0],\n",
       "       [ 2349,    12,  1557,    38,  1094,   351,   775,     2,   367,\n",
       "          260,  1770,     5,  4450,    70,   494,     0,     0,     0,\n",
       "            0,     0],\n",
       "       [    1,   700,   189,    19,     1,   427,    32,     3,  7417,\n",
       "            4,  2159,  1252,     6,     3,  5270,     4,  1217,  1252,\n",
       "           12,  3363],\n",
       "       [   13,    12,    15,     8,   149,    25,   543,    64,     1,\n",
       "          427,  3727,    41,     9,  1850,     0,     0,     0,     0,\n",
       "            0,     0],\n",
       "       [ 3363,  5733,     4,     1,  5875,   614,    21,     1,   311,\n",
       "         3438,   794,     4,  1557,    12,     1,   427,    69,    23,\n",
       "          787,     2],\n",
       "       [   37,    17,     2,  1793,    15,    52,   120,    15,    69,\n",
       "           23,  4921,    41,  1963,    13,    12,     0,     0,     0,\n",
       "            0,     0],\n",
       "       [ 4736,  3338,    24,  3969,     2,     1,  1316,     4,  3072,\n",
       "         1653,    12,    15,     9,   195,  1420,     7,    58,    40,\n",
       "           95,     3],\n",
       "       [   37,    17,     2,  1094,    64,   510,    20,     3,   250,\n",
       "           41,   264,     0,     0,     0,     0,     0,     0,     0,\n",
       "            0,     0],\n",
       "       [  260,   758,    95,  1047,     3,  1806,  1752,   531,   276,\n",
       "           29,    12,    33,   703,   163,   892,  1420,     5,     1,\n",
       "         2081,     0],\n",
       "       [   35,     9,  2057,    10,   116,  5825,     6,    35,   576,\n",
       "          656,   104,    59,     4,     3,  2410,    35,   241,     3,\n",
       "          512,  1911],\n",
       "       [   37,   341,    15,     9,     3,  2082,   120,    37,   881,\n",
       "           24,  4451,  2584,  4315,  4922,    55,     1,   555,   235,\n",
       "            0,     0],\n",
       "       [    1,   255,     4,     1,   700,     8,   159,  3961,   351,\n",
       "          448,     6,    24,   155,   465,  1929,     0,     0,     0,\n",
       "            0,     0],\n",
       "       [  126,   921,    22,    47,   100,    36,  1833,     2,  1212,\n",
       "           15,     0,     0,     0,     0,     0,     0,     0,     0,\n",
       "            0,     0],\n",
       "       [    0,     0,     0,     0,     0,     0,     0,     0,     0,\n",
       "            0,     0,     0,     0,     0,     0,     0,     0,     0,\n",
       "            0,     0],\n",
       "       [    0,     0,     0,     0,     0,     0,     0,     0,     0,\n",
       "            0,     0,     0,     0,     0,     0,     0,     0,     0,\n",
       "            0,     0],\n",
       "       [    0,     0,     0,     0,     0,     0,     0,     0,     0,\n",
       "            0,     0,     0,     0,     0,     0,     0,     0,     0,\n",
       "            0,     0],\n",
       "       [    0,     0,     0,     0,     0,     0,     0,     0,     0,\n",
       "            0,     0,     0,     0,     0,     0,     0,     0,     0,\n",
       "            0,     0]], dtype=int32)"
      ]
     },
     "execution_count": 41,
     "metadata": {
      "tags": []
     },
     "output_type": "execute_result"
    }
   ],
   "source": [
    "data[0,:,:]"
   ]
  },
  {
   "cell_type": "markdown",
   "metadata": {
    "colab_type": "text",
    "id": "0lqP8bvpTUEL"
   },
   "source": [
    "#### **The FIRST element of \"data\" array matches the output required**"
   ]
  },
  {
   "cell_type": "markdown",
   "metadata": {
    "colab_type": "text",
    "id": "bFdmiDYcE144"
   },
   "source": [
    "### Check 3:\n",
    "\n",
    "Accessing first element in data should give something like given below."
   ]
  },
  {
   "cell_type": "code",
   "execution_count": 42,
   "metadata": {
    "colab": {
     "base_uri": "https://localhost:8080/",
     "height": 1000
    },
    "colab_type": "code",
    "id": "TsFWW5C2Djog",
    "outputId": "4733434d-b942-4b27-abdb-922a215cf00d"
   },
   "outputs": [
    {
     "data": {
      "text/plain": [
       "array([[    3,   481,   427,  7211,    81,     3,  3733,   331,     5,\n",
       "         3891,   350,     4,  1431,  2958,     1,    89,    12,   464,\n",
       "            0,     0],\n",
       "       [  758,    95,  1047,     3,  2679,  1752,     7,   189,     3,\n",
       "         1217,  1075,  2030,   700,   159,     1,  3032,   448,     1,\n",
       "          555,   235],\n",
       "       [   89,  1067,  4115,  2349,    12,     3,  1092,  3306,    19,\n",
       "            1,    89,     2,  1793,     1,   521,  2009,    15,     9,\n",
       "            3,  3111],\n",
       "       [  181,  3640,   972,   200,  2556,    44,  6775,  1722,  1252,\n",
       "            5, 13317, 17936,     1,   778,    31,   740,  3990,    67,\n",
       "           85,     0],\n",
       "       [ 2349,    12,  1557,    38,  1094,   351,   775,     2,   367,\n",
       "          260,  1770,     5,  4450,    70,   494,     0,     0,     0,\n",
       "            0,     0],\n",
       "       [    1,   700,   189,    19,     1,   427,    32,     3,  7417,\n",
       "            4,  2159,  1252,     6,     3,  5270,     4,  1217,  1252,\n",
       "           12,  3363],\n",
       "       [   13,    12,    15,     8,   149,    25,   543,    64,     1,\n",
       "          427,  3727,    41,     9,  1850,     0,     0,     0,     0,\n",
       "            0,     0],\n",
       "       [ 3363,  5733,     4,     1,  5875,   614,    21,     1,   311,\n",
       "         3438,   794,     4,  1557,    12,     1,   427,    69,    23,\n",
       "          787,     2],\n",
       "       [   37,    17,     2,  1793,    15,    52,   120,    15,    69,\n",
       "           23,  4921,    41,  1963,    13,    12,     0,     0,     0,\n",
       "            0,     0],\n",
       "       [ 4736,  3338,    24,  3969,     2,     1,  1316,     4,  3072,\n",
       "         1653,    12,    15,     9,   195,  1420,     7,    58,    40,\n",
       "           95,     3],\n",
       "       [   37,    17,     2,  1094,    64,   510,    20,     3,   250,\n",
       "           41,   264,     0,     0,     0,     0,     0,     0,     0,\n",
       "            0,     0],\n",
       "       [  260,   758,    95,  1047,     3,  1806,  1752,   531,   276,\n",
       "           29,    12,    33,   703,   163,   892,  1420,     5,     1,\n",
       "         2081,     0],\n",
       "       [   35,     9,  2057,    10,   116,  5825,     6,    35,   576,\n",
       "          656,   104,    59,     4,     3,  2410,    35,   241,     3,\n",
       "          512,  1911],\n",
       "       [   37,   341,    15,     9,     3,  2082,   120,    37,   881,\n",
       "           24,  4451,  2584,  4315,  4922,    55,     1,   555,   235,\n",
       "            0,     0],\n",
       "       [    1,   255,     4,     1,   700,     8,   159,  3961,   351,\n",
       "          448,     6,    24,   155,   465,  1929,     0,     0,     0,\n",
       "            0,     0],\n",
       "       [  126,   921,    22,    47,   100,    36,  1833,     2,  1212,\n",
       "           15,     0,     0,     0,     0,     0,     0,     0,     0,\n",
       "            0,     0],\n",
       "       [    0,     0,     0,     0,     0,     0,     0,     0,     0,\n",
       "            0,     0,     0,     0,     0,     0,     0,     0,     0,\n",
       "            0,     0],\n",
       "       [    0,     0,     0,     0,     0,     0,     0,     0,     0,\n",
       "            0,     0,     0,     0,     0,     0,     0,     0,     0,\n",
       "            0,     0],\n",
       "       [    0,     0,     0,     0,     0,     0,     0,     0,     0,\n",
       "            0,     0,     0,     0,     0,     0,     0,     0,     0,\n",
       "            0,     0],\n",
       "       [    0,     0,     0,     0,     0,     0,     0,     0,     0,\n",
       "            0,     0,     0,     0,     0,     0,     0,     0,     0,\n",
       "            0,     0]], dtype=int32)"
      ]
     },
     "execution_count": 42,
     "metadata": {
      "tags": []
     },
     "output_type": "execute_result"
    }
   ],
   "source": [
    "data[0, :, :]"
   ]
  },
  {
   "cell_type": "code",
   "execution_count": 0,
   "metadata": {
    "colab": {},
    "colab_type": "code",
    "id": "9MeM7GZITdsl"
   },
   "outputs": [],
   "source": []
  },
  {
   "cell_type": "code",
   "execution_count": 0,
   "metadata": {
    "colab": {},
    "colab_type": "code",
    "id": "yzAqGr2NTd41"
   },
   "outputs": [],
   "source": []
  },
  {
   "cell_type": "markdown",
   "metadata": {
    "colab_type": "text",
    "id": "hTG6JySHehkT"
   },
   "source": [
    "# Repeat the same process for the `Headings` as well. Use variables with names `texts_heading` and `articles_heading` accordingly. [5 marks] "
   ]
  },
  {
   "cell_type": "code",
   "execution_count": 0,
   "metadata": {
    "colab": {},
    "colab_type": "code",
    "id": "_CliiIhLemJV"
   },
   "outputs": [],
   "source": [
    "texts_heading = []\n",
    "articles_heading = []"
   ]
  },
  {
   "cell_type": "code",
   "execution_count": 0,
   "metadata": {
    "colab": {},
    "colab_type": "code",
    "id": "xPmC3UZf9xnV"
   },
   "outputs": [],
   "source": [
    "for i, rows in dataset.iterrows():\n",
    "  texts_heading.append(rows['Headline'])\n",
    "  articles_heading.append(sent_tokenize(rows['Headline']))"
   ]
  },
  {
   "cell_type": "code",
   "execution_count": 45,
   "metadata": {
    "colab": {
     "base_uri": "https://localhost:8080/",
     "height": 35
    },
    "colab_type": "code",
    "id": "uaSE1DQG-RdD",
    "outputId": "5b3f3ea5-1168-4753-fcf3-04290b8869b3"
   },
   "outputs": [
    {
     "data": {
      "text/plain": [
       "'Surreal Photos of Fisherman’s Jaw-Dropping Catch Will Likely Have People Wondering If It’s Real'"
      ]
     },
     "execution_count": 45,
     "metadata": {
      "tags": []
     },
     "output_type": "execute_result"
    }
   ],
   "source": [
    "\n",
    "texts_heading[10]"
   ]
  },
  {
   "cell_type": "code",
   "execution_count": 46,
   "metadata": {
    "colab": {
     "base_uri": "https://localhost:8080/",
     "height": 35
    },
    "colab_type": "code",
    "id": "GGpznYanTtYv",
    "outputId": "5cf11b96-5210-455f-ec9e-1a482c21e6d4"
   },
   "outputs": [
    {
     "data": {
      "text/plain": [
       "['Surreal Photos of Fisherman’s Jaw-Dropping Catch Will Likely Have People Wondering If It’s Real']"
      ]
     },
     "execution_count": 46,
     "metadata": {
      "tags": []
     },
     "output_type": "execute_result"
    }
   ],
   "source": [
    "articles_heading[10]"
   ]
  },
  {
   "cell_type": "code",
   "execution_count": 0,
   "metadata": {
    "colab": {},
    "colab_type": "code",
    "id": "eWQmgisltChA"
   },
   "outputs": [],
   "source": [
    "data_heading = np.zeros(shape = (NUM_ARTICLES,MAX_SENTS_HEADING,MAX_SENT_LENGTH), dtype = 'int32')"
   ]
  },
  {
   "cell_type": "code",
   "execution_count": 48,
   "metadata": {
    "colab": {
     "base_uri": "https://localhost:8080/",
     "height": 35
    },
    "colab_type": "code",
    "id": "lsbOAp5nHUpZ",
    "outputId": "5f5adfc4-c273-46b1-be24-72ebf2263c04"
   },
   "outputs": [
    {
     "data": {
      "text/plain": [
       "(49972, 1, 20)"
      ]
     },
     "execution_count": 48,
     "metadata": {
      "tags": []
     },
     "output_type": "execute_result"
    }
   ],
   "source": [
    "data_heading.shape"
   ]
  },
  {
   "cell_type": "code",
   "execution_count": 0,
   "metadata": {
    "colab": {},
    "colab_type": "code",
    "id": "d7cc0fR7tCr8"
   },
   "outputs": [],
   "source": [
    "for i in range(len(dataset)):\n",
    "  for j in range(MAX_SENTS_HEADING):\n",
    "    word_tokens_heading = text.text_to_word_sequence(articles_heading[i][j], lower = False) ## Obtaining words from each sentence\n",
    "    X_heading = [[t.word_index[word.lower()] for word in word_tokens_heading] for sent in articles_heading[i]] ## Tokenizing the word of each sentece using t.word_index\n",
    "    truncated_heading = pad_sequences(X_heading, maxlen = MAX_SENT_LENGTH, padding = 'post', truncating='post') ## Padding the sentence to required length\n",
    "    data_heading[i,j,:] = truncated_heading[j,:] ## Updating the \"data_heading\" with the tokens\n",
    "    "
   ]
  },
  {
   "cell_type": "code",
   "execution_count": 50,
   "metadata": {
    "colab": {
     "base_uri": "https://localhost:8080/",
     "height": 35
    },
    "colab_type": "code",
    "id": "KR8c0Uv_P6MV",
    "outputId": "8b4318fb-9482-4b20-e4e3-56342325292b"
   },
   "outputs": [
    {
     "data": {
      "text/plain": [
       "'Soldier shot, Parliament locked down after gunfire erupts at war memorial'"
      ]
     },
     "execution_count": 50,
     "metadata": {
      "tags": []
     },
     "output_type": "execute_result"
    }
   ],
   "source": [
    "(articles_heading[0][0])"
   ]
  },
  {
   "cell_type": "code",
   "execution_count": 51,
   "metadata": {
    "colab": {
     "base_uri": "https://localhost:8080/",
     "height": 72
    },
    "colab_type": "code",
    "id": "iro7UNejP_mu",
    "outputId": "369f4702-7421-4682-9e5d-cde6b3284ce2"
   },
   "outputs": [
    {
     "data": {
      "text/plain": [
       "array([[  718,   206,   343,  7134,   193,    34,  1338, 11554,    21,\n",
       "          233,   686,     0,     0,     0,     0,     0,     0,     0,\n",
       "            0,     0]], dtype=int32)"
      ]
     },
     "execution_count": 51,
     "metadata": {
      "tags": []
     },
     "output_type": "execute_result"
    }
   ],
   "source": [
    "data_heading[0,:,:]"
   ]
  },
  {
   "cell_type": "markdown",
   "metadata": {
    "colab_type": "text",
    "id": "iaH0Ey1qe_Co"
   },
   "source": [
    "### Now the features are ready, lets make the labels ready for the model to process.\n",
    "\n",
    "### Convert labels into one-hot vectors\n",
    "\n",
    "You can use [get_dummies](https://pandas.pydata.org/pandas-docs/stable/generated/pandas.get_dummies.html) in pandas to create one-hot vectors."
   ]
  },
  {
   "cell_type": "code",
   "execution_count": 0,
   "metadata": {
    "colab": {},
    "colab_type": "code",
    "id": "rhAwiIOH9wh-"
   },
   "outputs": [],
   "source": [
    "import pandas as pd\n",
    "labels = pd.get_dummies(dataset['Stance'])\n",
    "labels =  labels.to_numpy(dtype = 'int32')"
   ]
  },
  {
   "cell_type": "code",
   "execution_count": 53,
   "metadata": {
    "colab": {
     "base_uri": "https://localhost:8080/",
     "height": 35
    },
    "colab_type": "code",
    "id": "Zq-VcgM8fat1",
    "outputId": "3b792353-0a3a-49db-f17f-1418790c670a"
   },
   "outputs": [
    {
     "data": {
      "text/plain": [
       "array([0, 0, 0, 1], dtype=int32)"
      ]
     },
     "execution_count": 53,
     "metadata": {
      "tags": []
     },
     "output_type": "execute_result"
    }
   ],
   "source": [
    "labels[10]"
   ]
  },
  {
   "cell_type": "code",
   "execution_count": 64,
   "metadata": {
    "colab": {
     "base_uri": "https://localhost:8080/",
     "height": 53
    },
    "colab_type": "code",
    "id": "LtwvQxXzUfJP",
    "outputId": "7399f5fa-59f0-4e04-87c3-bddc9a993a6c"
   },
   "outputs": [
    {
     "name": "stdout",
     "output_type": "stream",
     "text": [
      "Shape of the data tensor (49972, 20, 20)\n",
      "Shape of label tensor (49972, 4)\n"
     ]
    }
   ],
   "source": [
    "print('Shape of the data tensor', data.shape)\n",
    "print('Shape of label tensor', labels.shape)"
   ]
  },
  {
   "cell_type": "markdown",
   "metadata": {
    "colab_type": "text",
    "id": "LKu-xH2zWBjJ"
   },
   "source": [
    "###The Shape of data and label tensors matches the required shape"
   ]
  },
  {
   "cell_type": "markdown",
   "metadata": {
    "colab_type": "text",
    "id": "40mA8FI2fcxZ"
   },
   "source": [
    "### Check 4:\n",
    "\n",
    "The shape of data and labels shoould match the given below numbers."
   ]
  },
  {
   "cell_type": "code",
   "execution_count": 56,
   "metadata": {
    "colab": {
     "base_uri": "https://localhost:8080/",
     "height": 53
    },
    "colab_type": "code",
    "id": "vpEWEnjFfnFR",
    "outputId": "23d3e39e-5b8c-4e27-f82c-34374fcf6555"
   },
   "outputs": [
    {
     "name": "stdout",
     "output_type": "stream",
     "text": [
      "Shape of data tensor: (49972, 20, 20)\n",
      "Shape of label tensor: (49972, 4)\n"
     ]
    }
   ],
   "source": [
    "print('Shape of data tensor:', data.shape)\n",
    "print('Shape of label tensor:', labels.shape)"
   ]
  },
  {
   "cell_type": "code",
   "execution_count": 0,
   "metadata": {
    "colab": {},
    "colab_type": "code",
    "id": "31SF-RqzWORW"
   },
   "outputs": [],
   "source": []
  },
  {
   "cell_type": "code",
   "execution_count": 0,
   "metadata": {
    "colab": {},
    "colab_type": "code",
    "id": "VmM5jsuLWOeQ"
   },
   "outputs": [],
   "source": []
  },
  {
   "cell_type": "markdown",
   "metadata": {
    "colab_type": "text",
    "id": "sDOxHdR3frDu"
   },
   "source": [
    "### Shuffle the data"
   ]
  },
  {
   "cell_type": "code",
   "execution_count": 0,
   "metadata": {
    "colab": {},
    "colab_type": "code",
    "id": "-Ra-yYTvfzRt"
   },
   "outputs": [],
   "source": [
    "## get numbers upto no.of articles\n",
    "indices = np.arange(data.shape[0])\n",
    "## shuffle the numbers\n",
    "np.random.shuffle(indices)"
   ]
  },
  {
   "cell_type": "code",
   "execution_count": 0,
   "metadata": {
    "colab": {},
    "colab_type": "code",
    "id": "LKnSqwIFf3Iy"
   },
   "outputs": [],
   "source": [
    "## shuffle the data\n",
    "data = data[indices]\n",
    "data_heading = data_heading[indices]\n",
    "## shuffle the labels according to data\n",
    "labels = labels[indices]"
   ]
  },
  {
   "cell_type": "markdown",
   "metadata": {
    "colab_type": "text",
    "id": "JcOFVfPBf9kA"
   },
   "source": [
    "### Split into train and validation sets. Split the train set 80:20 ratio to get the train and validation sets.\n",
    "\n",
    "\n",
    "Use the variable names as given below:\n",
    "\n",
    "x_train, x_val - for body of articles.\n",
    "\n",
    "x-heading_train, x_heading_val - for heading of articles.\n",
    "\n",
    "y_train - for training labels.\n",
    "\n",
    "y_val - for validation labels.\n",
    "\n"
   ]
  },
  {
   "cell_type": "code",
   "execution_count": 0,
   "metadata": {
    "colab": {},
    "colab_type": "code",
    "id": "W_MUj2lRKkI4"
   },
   "outputs": [],
   "source": [
    "validation_split = 0.2"
   ]
  },
  {
   "cell_type": "code",
   "execution_count": 0,
   "metadata": {
    "colab": {},
    "colab_type": "code",
    "id": "B6mU6T4DOnSv"
   },
   "outputs": [],
   "source": [
    "val_samples = int(validation_split * data.shape[0])\n",
    "\n"
   ]
  },
  {
   "cell_type": "code",
   "execution_count": 0,
   "metadata": {
    "colab": {},
    "colab_type": "code",
    "id": "1i9sAiZ2O2Yi"
   },
   "outputs": [],
   "source": [
    "x_train = data[:-val_samples]\n",
    "x_heading_train = data_heading[:-val_samples]\n",
    "y_train = labels[:-val_samples]\n",
    "x_val = data[-val_samples:]\n",
    "x_heading_val = data_heading[-val_samples:]\n",
    "y_val = labels[-val_samples:]"
   ]
  },
  {
   "cell_type": "code",
   "execution_count": 63,
   "metadata": {
    "colab": {
     "base_uri": "https://localhost:8080/",
     "height": 126
    },
    "colab_type": "code",
    "id": "-uHfJLw9Wdw6",
    "outputId": "5743accc-73f2-495a-952f-b344a6fb7d1b"
   },
   "outputs": [
    {
     "name": "stdout",
     "output_type": "stream",
     "text": [
      "(39978, 20, 20)\n",
      "(39978, 1, 20)\n",
      "(39978, 4)\n",
      "(9994, 20, 20)\n",
      "(9994, 1, 20)\n",
      "(9994, 4)\n"
     ]
    }
   ],
   "source": [
    "print(x_train.shape)\n",
    "print(x_heading_train.shape)\n",
    "print(y_train.shape)\n",
    "\n",
    "print(x_val.shape)\n",
    "print(x_heading_val.shape)\n",
    "print(y_val.shape)"
   ]
  },
  {
   "cell_type": "markdown",
   "metadata": {
    "colab_type": "text",
    "id": "8Ni_ENbmWpXq"
   },
   "source": [
    "### The Shape of the train and validation datasets matches the shapes specified"
   ]
  },
  {
   "cell_type": "markdown",
   "metadata": {
    "colab_type": "text",
    "id": "UTyvoHrsgMDw"
   },
   "source": [
    "### Check 5:\n",
    "\n",
    "The shape of x_train, x_val, y_train and y_val should match the below numbers."
   ]
  },
  {
   "cell_type": "code",
   "execution_count": 56,
   "metadata": {
    "colab": {
     "base_uri": "https://localhost:8080/",
     "height": 126
    },
    "colab_type": "code",
    "id": "KLEbiw2Yghe2",
    "outputId": "f0176c51-28de-4988-cff0-f818eb5fe857"
   },
   "outputs": [
    {
     "name": "stdout",
     "output_type": "stream",
     "text": [
      "(39978, 20, 20)\n",
      "(39978, 1, 20)\n",
      "(39978, 4)\n",
      "(9994, 20, 20)\n",
      "(9994, 1, 20)\n",
      "(9994, 4)\n"
     ]
    }
   ],
   "source": [
    "print(x_train.shape)\n",
    "print(x_heading_train.shape)\n",
    "print(y_train.shape)\n",
    "\n",
    "print(x_val.shape)\n",
    "print(x_heading_val.shape)\n",
    "print(y_val.shape)"
   ]
  },
  {
   "cell_type": "markdown",
   "metadata": {
    "colab_type": "text",
    "id": "BXgFrUeOXtw9"
   },
   "source": [
    "### Reshaping the Train and Test split to 2D array to use as input to the Model"
   ]
  },
  {
   "cell_type": "code",
   "execution_count": 0,
   "metadata": {
    "colab": {},
    "colab_type": "code",
    "id": "P-woMu6I8Ib8"
   },
   "outputs": [],
   "source": [
    "X_train = np.reshape(x_train, (39978,400))\n",
    "X_heading_train = np.reshape(x_heading_train, (39978,20))\n",
    "X_val = np.reshape(x_val, (9994,400))\n",
    "X_heading_val = np.reshape(x_heading_val,(9994,20))\n"
   ]
  },
  {
   "cell_type": "code",
   "execution_count": 0,
   "metadata": {
    "colab": {},
    "colab_type": "code",
    "id": "09C3PQvP9bIg"
   },
   "outputs": [],
   "source": [
    "maxlen_articlebody = MAX_SENT_LENGTH * MAX_SENTS\n",
    "maxlen_headline = MAX_SENT_LENGTH * MAX_SENTS_HEADING"
   ]
  },
  {
   "cell_type": "markdown",
   "metadata": {
    "colab_type": "text",
    "id": "yNnoBtArhJ1E"
   },
   "source": [
    "### Create embedding matrix with the glove embeddings\n",
    "\n",
    "\n",
    "Run the below code to create embedding_matrix which has all the words and their glove embedding if present in glove word list."
   ]
  },
  {
   "cell_type": "code",
   "execution_count": 59,
   "metadata": {
    "colab": {
     "base_uri": "https://localhost:8080/",
     "height": 35
    },
    "colab_type": "code",
    "id": "eKqn2IL2ZF8v",
    "outputId": "7542cc13-66d1-4995-a52d-1dbae8331356"
   },
   "outputs": [
    {
     "name": "stdout",
     "output_type": "stream",
     "text": [
      "Loaded 400000 word vectors.\n"
     ]
    }
   ],
   "source": [
    "embedding_dim = 100\n",
    "import numpy as np\n",
    "# load the whole embedding into memory\n",
    "embeddings_index = dict()\n",
    "f = open('./glove.6B.100d.txt')\n",
    "for line in f:\n",
    "\tvalues = line.split()\n",
    "\tword = values[0]\n",
    "\tcoefs = np.asarray(values[1:], dtype='float32')\n",
    "\tembeddings_index[word] = coefs\n",
    "f.close()\n",
    "print('Loaded %s word vectors.' % len(embeddings_index))\n",
    "\n"
   ]
  },
  {
   "cell_type": "code",
   "execution_count": 0,
   "metadata": {
    "colab": {},
    "colab_type": "code",
    "id": "cDK6jssbo8lF"
   },
   "outputs": [],
   "source": [
    "# create a weight matrix for words in training docs\n",
    "embedding_matrix = np.zeros((MAX_NB_WORDS, embedding_dim))\n",
    "\n",
    "\n",
    "for word, i in t.word_index.items():\n",
    "\tif i<MAX_NB_WORDS:\n",
    "\t\tembedding_vector = embeddings_index.get(word)\n",
    "\t\tif embedding_vector is not None:\n",
    "\t\t\tembedding_matrix[i] = embedding_vector"
   ]
  },
  {
   "cell_type": "code",
   "execution_count": 61,
   "metadata": {
    "colab": {
     "base_uri": "https://localhost:8080/",
     "height": 35
    },
    "colab_type": "code",
    "id": "5ojMFLoO37G_",
    "outputId": "17a1683d-d59a-4baa-a4f8-f8d388072fa8"
   },
   "outputs": [
    {
     "data": {
      "text/plain": [
       "(30000, 100)"
      ]
     },
     "execution_count": 61,
     "metadata": {
      "tags": []
     },
     "output_type": "execute_result"
    }
   ],
   "source": [
    "embedding_matrix.shape"
   ]
  },
  {
   "cell_type": "markdown",
   "metadata": {
    "colab_type": "text",
    "id": "LRi4o3ZspDFU"
   },
   "source": [
    "# Try the sequential model approach and report the accuracy score. [10 marks]  "
   ]
  },
  {
   "cell_type": "markdown",
   "metadata": {
    "colab_type": "text",
    "id": "zSZDnPWkw2ZZ"
   },
   "source": [
    "### Import layers from Keras to build the model"
   ]
  },
  {
   "cell_type": "code",
   "execution_count": 1,
   "metadata": {
    "colab": {
     "base_uri": "https://localhost:8080/",
     "height": 83
    },
    "colab_type": "code",
    "id": "5AgwQsfMrzAQ",
    "outputId": "85cc8c37-682d-4ccf-f250-2547aa71f744"
   },
   "outputs": [
    {
     "name": "stderr",
     "output_type": "stream",
     "text": [
      "Using TensorFlow backend.\n"
     ]
    },
    {
     "data": {
      "text/html": [
       "<p style=\"color: red;\">\n",
       "The default version of TensorFlow in Colab will soon switch to TensorFlow 2.x.<br>\n",
       "We recommend you <a href=\"https://www.tensorflow.org/guide/migrate\" target=\"_blank\">upgrade</a> now \n",
       "or ensure your notebook will continue to use TensorFlow 1.x via the <code>%tensorflow_version 1.x</code> magic:\n",
       "<a href=\"https://colab.research.google.com/notebooks/tensorflow_version.ipynb\" target=\"_blank\">more info</a>.</p>\n"
      ],
      "text/plain": [
       "<IPython.core.display.HTML object>"
      ]
     },
     "metadata": {
      "tags": []
     },
     "output_type": "display_data"
    }
   ],
   "source": [
    "embedding_dim = 100\n",
    "classes = 4\n",
    "\n",
    "import matplotlib.pyplot as plt\n",
    "from sklearn.metrics import accuracy_score,classification_report\n",
    "from keras.utils import plot_model\n",
    "from keras.models import Sequential\n",
    "from keras.layers import LSTM,Embedding,Bidirectional, Concatenate,Reshape, Activation, Dot\n",
    "from keras.layers import Dense\n",
    "from keras.layers import TimeDistributed\n",
    "from keras.layers import RepeatVector\n",
    "from keras import Model,Input\n",
    "from keras.callbacks import ModelCheckpoint, EarlyStopping, ReduceLROnPlateau, TensorBoard, LearningRateScheduler\n",
    "from keras.callbacks import Callback"
   ]
  },
  {
   "cell_type": "markdown",
   "metadata": {
    "colab_type": "text",
    "id": "Ae2wG_TmME1e"
   },
   "source": [
    "DEFINING CHECKPOINTS AND CALLBACKS"
   ]
  },
  {
   "cell_type": "code",
   "execution_count": 0,
   "metadata": {
    "colab": {},
    "colab_type": "code",
    "id": "EeO-T9jwi8be"
   },
   "outputs": [],
   "source": [
    "checkpoints= ModelCheckpoint(\"Stance Detection.h5\", monitor=\"accuracy\", verbose=1, save_best_only=True,\n",
    "                             save_weights_only=True, mode=\"max\", period=2) # Checkpoint best validation model\n",
    "PATIENCE = 20\n",
    "\n",
    "stop = EarlyStopping(monitor=\"val_acc\", patience=PATIENCE, mode=\"max\") # Stop early, if the validation error deteriorates\n",
    "reduce_lr = ReduceLROnPlateau(monitor=\"loss\", factor=0.2, patience=10, min_lr=1e-7, verbose=1, mode=\"max\")\n",
    "\n",
    "\n"
   ]
  },
  {
   "cell_type": "markdown",
   "metadata": {
    "colab_type": "text",
    "id": "bz1_XVjP_rom"
   },
   "source": [
    "### MODELLING WITH SINGLE LSTM LAYER IN BOTH ENCODER AND DECODER"
   ]
  },
  {
   "cell_type": "code",
   "execution_count": 0,
   "metadata": {
    "colab": {
     "base_uri": "https://localhost:8080/",
     "height": 978
    },
    "colab_type": "code",
    "id": "F-thhsRz2jEF",
    "outputId": "24b03285-2591-4dc1-af32-b2b0da4dc088"
   },
   "outputs": [
    {
     "name": "stdout",
     "output_type": "stream",
     "text": [
      "WARNING:tensorflow:From /usr/local/lib/python3.6/dist-packages/keras/backend/tensorflow_backend.py:66: The name tf.get_default_graph is deprecated. Please use tf.compat.v1.get_default_graph instead.\n",
      "\n",
      "WARNING:tensorflow:From /usr/local/lib/python3.6/dist-packages/keras/backend/tensorflow_backend.py:541: The name tf.placeholder is deprecated. Please use tf.compat.v1.placeholder instead.\n",
      "\n",
      "WARNING:tensorflow:From /usr/local/lib/python3.6/dist-packages/keras/backend/tensorflow_backend.py:4432: The name tf.random_uniform is deprecated. Please use tf.random.uniform instead.\n",
      "\n",
      "WARNING:tensorflow:From /usr/local/lib/python3.6/dist-packages/keras/backend/tensorflow_backend.py:190: The name tf.get_default_session is deprecated. Please use tf.compat.v1.get_default_session instead.\n",
      "\n",
      "WARNING:tensorflow:From /usr/local/lib/python3.6/dist-packages/keras/backend/tensorflow_backend.py:197: The name tf.ConfigProto is deprecated. Please use tf.compat.v1.ConfigProto instead.\n",
      "\n",
      "WARNING:tensorflow:From /usr/local/lib/python3.6/dist-packages/keras/backend/tensorflow_backend.py:203: The name tf.Session is deprecated. Please use tf.compat.v1.Session instead.\n",
      "\n",
      "WARNING:tensorflow:From /usr/local/lib/python3.6/dist-packages/keras/backend/tensorflow_backend.py:207: The name tf.global_variables is deprecated. Please use tf.compat.v1.global_variables instead.\n",
      "\n",
      "WARNING:tensorflow:From /usr/local/lib/python3.6/dist-packages/keras/backend/tensorflow_backend.py:216: The name tf.is_variable_initialized is deprecated. Please use tf.compat.v1.is_variable_initialized instead.\n",
      "\n",
      "WARNING:tensorflow:From /usr/local/lib/python3.6/dist-packages/keras/backend/tensorflow_backend.py:223: The name tf.variables_initializer is deprecated. Please use tf.compat.v1.variables_initializer instead.\n",
      "\n",
      "WARNING:tensorflow:From /usr/local/lib/python3.6/dist-packages/keras/backend/tensorflow_backend.py:148: The name tf.placeholder_with_default is deprecated. Please use tf.compat.v1.placeholder_with_default instead.\n",
      "\n",
      "WARNING:tensorflow:From /usr/local/lib/python3.6/dist-packages/keras/backend/tensorflow_backend.py:3733: calling dropout (from tensorflow.python.ops.nn_ops) with keep_prob is deprecated and will be removed in a future version.\n",
      "Instructions for updating:\n",
      "Please use `rate` instead of `keep_prob`. Rate should be set to `rate = 1 - keep_prob`.\n",
      "Model: \"model_1\"\n",
      "__________________________________________________________________________________________________\n",
      "Layer (type)                    Output Shape         Param #     Connected to                     \n",
      "==================================================================================================\n",
      "input_1 (InputLayer)            (None, 400)          0                                            \n",
      "__________________________________________________________________________________________________\n",
      "embedding_1 (Embedding)         (None, 400, 100)     3000000     input_1[0][0]                    \n",
      "__________________________________________________________________________________________________\n",
      "input_2 (InputLayer)            (None, 20)           0                                            \n",
      "__________________________________________________________________________________________________\n",
      "dropout_1 (Dropout)             (None, 400, 100)     0           embedding_1[0][0]                \n",
      "__________________________________________________________________________________________________\n",
      "embedding_2 (Embedding)         (None, 20, 100)      3000000     input_2[0][0]                    \n",
      "__________________________________________________________________________________________________\n",
      "lstm_1 (LSTM)                   [(None, 400), (None, 801600      dropout_1[0][0]                  \n",
      "__________________________________________________________________________________________________\n",
      "lstm_2 (LSTM)                   (None, 20, 400)      801600      embedding_2[0][0]                \n",
      "                                                                 lstm_1[0][2]                     \n",
      "                                                                 lstm_1[0][1]                     \n",
      "__________________________________________________________________________________________________\n",
      "flatten_1 (Flatten)             (None, 8000)         0           lstm_2[0][0]                     \n",
      "__________________________________________________________________________________________________\n",
      "dense_1 (Dense)                 (None, 200)          1600200     flatten_1[0][0]                  \n",
      "__________________________________________________________________________________________________\n",
      "dense_2 (Dense)                 (None, 4)            804         dense_1[0][0]                    \n",
      "==================================================================================================\n",
      "Total params: 9,204,204\n",
      "Trainable params: 3,204,204\n",
      "Non-trainable params: 6,000,000\n",
      "__________________________________________________________________________________________________\n"
     ]
    }
   ],
   "source": [
    "\n",
    "#Defining encoder sequence\n",
    "seq_input1 = Input(shape = (maxlen_articlebody,), dtype = 'int32')\n",
    "x = Embedding(MAX_NB_WORDS, embedding_dim, weights = [embedding_matrix], input_length = maxlen_articlebody, trainable = False)(seq_input1)\n",
    "x = Dropout(0.2)(x)\n",
    "x,state_c,state_h = (LSTM(400,return_state = True))(x)\n",
    "encoder_states = [state_h,state_c]\n",
    "\n",
    "#Defining decoder sequence\n",
    "seq_input2 = Input(shape = (maxlen_headline,),dtype = 'int32')\n",
    "x = Embedding(MAX_NB_WORDS, embedding_dim, weights = [embedding_matrix],input_length = maxlen_headline, trainable = False)(seq_input2)\n",
    "x = LSTM(400,return_sequences = True)(x,initial_state = encoder_states)\n",
    "x = Flatten()(x)\n",
    "x = Dense(200, activation = 'relu')(x)\n",
    "\n",
    "#Output \n",
    "output = (Dense(classes, activation = 'softmax'))(x)\n",
    "model_1 = Model(inputs = [seq_input1,seq_input2], outputs = output)\n",
    "model_1.summary()\n",
    "\n"
   ]
  },
  {
   "cell_type": "code",
   "execution_count": 0,
   "metadata": {
    "colab": {
     "base_uri": "https://localhost:8080/",
     "height": 864
    },
    "colab_type": "code",
    "id": "GGv6Sz7vA03H",
    "outputId": "1f8ccaac-41b4-4e58-faa9-10a2322094a7"
   },
   "outputs": [
    {
     "data": {
      "image/png": "[encoded data removed]",
      "text/plain": [
       "<IPython.core.display.Image object>"
      ]
     },
     "execution_count": 65,
     "metadata": {
      "tags": []
     },
     "output_type": "execute_result"
    }
   ],
   "source": [
    "# Model is depicted that shows the input and output shapes of each layer\n",
    "plot_model(model_1,to_file = 'model_2.png', show_shapes = True)"
   ]
  },
  {
   "cell_type": "markdown",
   "metadata": {
    "colab_type": "text",
    "id": "C5Xrd-JQ3id7"
   },
   "source": [
    "### Compile and fit the model"
   ]
  },
  {
   "cell_type": "code",
   "execution_count": 0,
   "metadata": {
    "colab": {
     "base_uri": "https://localhost:8080/",
     "height": 107
    },
    "colab_type": "code",
    "id": "3DIEBU1LVpSa",
    "outputId": "283924db-052f-463f-9ef9-b3a3f269f295"
   },
   "outputs": [
    {
     "name": "stdout",
     "output_type": "stream",
     "text": [
      "WARNING:tensorflow:From /usr/local/lib/python3.6/dist-packages/keras/optimizers.py:793: The name tf.train.Optimizer is deprecated. Please use tf.compat.v1.train.Optimizer instead.\n",
      "\n",
      "WARNING:tensorflow:From /usr/local/lib/python3.6/dist-packages/keras/backend/tensorflow_backend.py:3576: The name tf.log is deprecated. Please use tf.math.log instead.\n",
      "\n"
     ]
    }
   ],
   "source": [
    "model_1.compile(loss=\"categorical_crossentropy\", metrics=[\"accuracy\"], optimizer='adam')"
   ]
  },
  {
   "cell_type": "markdown",
   "metadata": {
    "colab_type": "text",
    "id": "o7CSEZBsN6jP"
   },
   "source": [
    "Entire [[X_train, X_train_heading], y_train] used as the training data and the validation is done on the validation dataset [[X_val, X_heading_val], y_val] and callbacks defined earlier are used."
   ]
  },
  {
   "cell_type": "code",
   "execution_count": 0,
   "metadata": {
    "colab": {
     "base_uri": "https://localhost:8080/",
     "height": 961
    },
    "colab_type": "code",
    "id": "5k2MBSv2M-YS",
    "outputId": "39358d69-2b2f-4f04-d318-08b200c22baf"
   },
   "outputs": [
    {
     "name": "stdout",
     "output_type": "stream",
     "text": [
      "WARNING:tensorflow:From /usr/local/lib/python3.6/dist-packages/tensorflow_core/python/ops/math_grad.py:1424: where (from tensorflow.python.ops.array_ops) is deprecated and will be removed in a future version.\n",
      "Instructions for updating:\n",
      "Use tf.where in 2.0, which has the same broadcast rule as np.where\n",
      "WARNING:tensorflow:From /usr/local/lib/python3.6/dist-packages/keras/backend/tensorflow_backend.py:1033: The name tf.assign_add is deprecated. Please use tf.compat.v1.assign_add instead.\n",
      "\n",
      "WARNING:tensorflow:From /usr/local/lib/python3.6/dist-packages/keras/backend/tensorflow_backend.py:1020: The name tf.assign is deprecated. Please use tf.compat.v1.assign instead.\n",
      "\n",
      "Train on 39978 samples, validate on 9994 samples\n",
      "Epoch 1/20\n",
      "39978/39978 [==============================] - 526s 13ms/step - loss: 0.7548 - acc: 0.7329 - val_loss: 0.7034 - val_acc: 0.7401\n",
      "Epoch 2/20\n",
      "39978/39978 [==============================] - 526s 13ms/step - loss: 0.6811 - acc: 0.7455 - val_loss: 0.6692 - val_acc: 0.7521\n",
      "Epoch 3/20\n"
     ]
    },
    {
     "name": "stderr",
     "output_type": "stream",
     "text": [
      "/usr/local/lib/python3.6/dist-packages/keras/callbacks.py:707: RuntimeWarning: Can save best model only with accuracy available, skipping.\n",
      "  'skipping.' % (self.monitor), RuntimeWarning)\n"
     ]
    },
    {
     "name": "stdout",
     "output_type": "stream",
     "text": [
      "39978/39978 [==============================] - 525s 13ms/step - loss: 0.6395 - acc: 0.7545 - val_loss: 0.6557 - val_acc: 0.7549\n",
      "Epoch 4/20\n",
      "39978/39978 [==============================] - 526s 13ms/step - loss: 0.6165 - acc: 0.7611 - val_loss: 0.6302 - val_acc: 0.7615\n",
      "Epoch 5/20\n",
      "39978/39978 [==============================] - 525s 13ms/step - loss: 0.6035 - acc: 0.7653 - val_loss: 0.6413 - val_acc: 0.7626\n",
      "Epoch 6/20\n",
      "39978/39978 [==============================] - 523s 13ms/step - loss: 0.5768 - acc: 0.7723 - val_loss: 0.6044 - val_acc: 0.7724\n",
      "Epoch 7/20\n",
      "39978/39978 [==============================] - 521s 13ms/step - loss: 0.5038 - acc: 0.7874 - val_loss: 0.4918 - val_acc: 0.7939\n",
      "Epoch 8/20\n",
      "39978/39978 [==============================] - 524s 13ms/step - loss: 0.4046 - acc: 0.8212 - val_loss: 0.4271 - val_acc: 0.8182\n",
      "Epoch 9/20\n",
      "39978/39978 [==============================] - 526s 13ms/step - loss: 0.3229 - acc: 0.8590 - val_loss: 0.3660 - val_acc: 0.8544\n",
      "Epoch 10/20\n",
      "39978/39978 [==============================] - 527s 13ms/step - loss: 0.2739 - acc: 0.8826 - val_loss: 0.3608 - val_acc: 0.8632\n",
      "Epoch 11/20\n",
      "39978/39978 [==============================] - 528s 13ms/step - loss: 0.2438 - acc: 0.8950 - val_loss: 0.3392 - val_acc: 0.8664\n",
      "\n",
      "Epoch 00011: ReduceLROnPlateau reducing learning rate to 0.00020000000949949026.\n",
      "Epoch 12/20\n",
      "39978/39978 [==============================] - 529s 13ms/step - loss: 0.1753 - acc: 0.9265 - val_loss: 0.3188 - val_acc: 0.8840\n",
      "Epoch 13/20\n",
      "39978/39978 [==============================] - 527s 13ms/step - loss: 0.1512 - acc: 0.9359 - val_loss: 0.3244 - val_acc: 0.8887\n",
      "Epoch 14/20\n",
      "39978/39978 [==============================] - 527s 13ms/step - loss: 0.1379 - acc: 0.9421 - val_loss: 0.3290 - val_acc: 0.8902\n",
      "Epoch 15/20\n",
      "39978/39978 [==============================] - 522s 13ms/step - loss: 0.1262 - acc: 0.9471 - val_loss: 0.3284 - val_acc: 0.8930\n",
      "Epoch 16/20\n",
      "39978/39978 [==============================] - 524s 13ms/step - loss: 0.1158 - acc: 0.9521 - val_loss: 0.3302 - val_acc: 0.9017\n",
      "Epoch 17/20\n",
      "39978/39978 [==============================] - 526s 13ms/step - loss: 0.1070 - acc: 0.9569 - val_loss: 0.3264 - val_acc: 0.9050\n",
      "Epoch 18/20\n",
      "39978/39978 [==============================] - 524s 13ms/step - loss: 0.0966 - acc: 0.9611 - val_loss: 0.3316 - val_acc: 0.9059\n",
      "Epoch 19/20\n",
      "39978/39978 [==============================] - 521s 13ms/step - loss: 0.0881 - acc: 0.9655 - val_loss: 0.3317 - val_acc: 0.9081\n",
      "Epoch 20/20\n",
      "39978/39978 [==============================] - 522s 13ms/step - loss: 0.0780 - acc: 0.9692 - val_loss: 0.3439 - val_acc: 0.9135\n"
     ]
    }
   ],
   "source": [
    "history = model_1.fit([X_train,X_heading_train],y_train, batch_size = 64, epochs= 20, validation_data = ([X_val,X_heading_val],y_val), callbacks = [checkpoints, reduce_lr,stop]).history"
   ]
  },
  {
   "cell_type": "code",
   "execution_count": 0,
   "metadata": {
    "colab": {
     "base_uri": "https://localhost:8080/",
     "height": 295
    },
    "colab_type": "code",
    "id": "H4Es07YEXpQv",
    "outputId": "230a44c4-1b6e-45e6-904b-04b29466aec1"
   },
   "outputs": [
    {
     "data": {
      "image/png": "[encoded data removed]",
      "text/plain": [
       "<Figure size 432x288 with 1 Axes>"
      ]
     },
     "metadata": {
      "tags": []
     },
     "output_type": "display_data"
    }
   ],
   "source": [
    "plt.plot(history['acc'])\n",
    "plt.plot(history['val_acc'])\n",
    "plt.title('model accuracy')\n",
    "plt.ylabel('accuracy')\n",
    "plt.xlabel('epoch')\n",
    "plt.legend(['train', 'val'], loc='upper left')\n",
    "plt.show()"
   ]
  },
  {
   "cell_type": "code",
   "execution_count": 0,
   "metadata": {
    "colab": {},
    "colab_type": "code",
    "id": "pUZ4E_p6gpbn"
   },
   "outputs": [],
   "source": []
  },
  {
   "cell_type": "markdown",
   "metadata": {
    "colab_type": "text",
    "id": "Dq3eZHtLNFjb"
   },
   "source": [
    "Model with SINGLE LSTM Layer in both Encoder and Decoder with Dropout layer for regularization is used.  This model gives 96.92% accuracy with the training set and 91.35% with the validation dataset"
   ]
  },
  {
   "cell_type": "markdown",
   "metadata": {
    "colab_type": "text",
    "id": "R47A6Ysfev3l"
   },
   "source": [
    "## Build the same model with attention layers included (Optional)"
   ]
  },
  {
   "cell_type": "markdown",
   "metadata": {
    "colab_type": "text",
    "id": "fpPBgyRq_14X"
   },
   "source": [
    "### MODELLING SINGLE LSTM LAYER IN BOTH ENCODER AND DECODER ALONG WITH ATTENTION MECHANISM"
   ]
  },
  {
   "cell_type": "code",
   "execution_count": 0,
   "metadata": {
    "colab": {
     "base_uri": "https://localhost:8080/",
     "height": 835
    },
    "colab_type": "code",
    "id": "ksl1pjX2m0Gn",
    "outputId": "bd6cf374-3429-4075-edee-558814388237"
   },
   "outputs": [
    {
     "name": "stdout",
     "output_type": "stream",
     "text": [
      "Model: \"model_1\"\n",
      "__________________________________________________________________________________________________\n",
      "Layer (type)                    Output Shape         Param #     Connected to                     \n",
      "==================================================================================================\n",
      "input_3 (InputLayer)            (None, 400)          0                                            \n",
      "__________________________________________________________________________________________________\n",
      "embedding_3 (Embedding)         (None, 400, 100)     3000000     input_3[0][0]                    \n",
      "__________________________________________________________________________________________________\n",
      "input_4 (InputLayer)            (None, 20)           0                                            \n",
      "__________________________________________________________________________________________________\n",
      "lstm_5 (LSTM)                   (None, 400, 200)     240800      embedding_3[0][0]                \n",
      "__________________________________________________________________________________________________\n",
      "embedding_4 (Embedding)         (None, 20, 100)      3000000     input_4[0][0]                    \n",
      "__________________________________________________________________________________________________\n",
      "lstm_6 (LSTM)                   [(None, 400, 200), ( 320800      lstm_5[0][0]                     \n",
      "__________________________________________________________________________________________________\n",
      "lstm_7 (LSTM)                   (None, 20, 200)      240800      embedding_4[0][0]                \n",
      "                                                                 lstm_6[0][2]                     \n",
      "                                                                 lstm_6[0][1]                     \n",
      "__________________________________________________________________________________________________\n",
      "lstm_8 (LSTM)                   (None, 20, 200)      320800      lstm_7[0][0]                     \n",
      "__________________________________________________________________________________________________\n",
      "time_distributed_2 (TimeDistrib (None, 400, 1)       201         lstm_6[0][0]                     \n",
      "__________________________________________________________________________________________________\n",
      "dense_6 (Dense)                 (None, 20, 20)       4020        lstm_8[0][0]                     \n",
      "__________________________________________________________________________________________________\n",
      "reshape_2 (Reshape)             (None, 400)          0           time_distributed_2[0][0]         \n",
      "__________________________________________________________________________________________________\n",
      "flatten_2 (Flatten)             (None, 400)          0           dense_6[0][0]                    \n",
      "__________________________________________________________________________________________________\n",
      "attention_vec (Activation)      (None, 400)          0           reshape_2[0][0]                  \n",
      "__________________________________________________________________________________________________\n",
      "dot_2 (Dot)                     (None, 1)            0           flatten_2[0][0]                  \n",
      "                                                                 attention_vec[0][0]              \n",
      "__________________________________________________________________________________________________\n",
      "dense_7 (Dense)                 (None, 8000)         16000       dot_2[0][0]                      \n",
      "__________________________________________________________________________________________________\n",
      "dense_8 (Dense)                 (None, 200)          1600200     dense_7[0][0]                    \n",
      "__________________________________________________________________________________________________\n",
      "dense_9 (Dense)                 (None, 4)            804         dense_8[0][0]                    \n",
      "==================================================================================================\n",
      "Total params: 8,744,425\n",
      "Trainable params: 2,744,425\n",
      "Non-trainable params: 6,000,000\n",
      "__________________________________________________________________________________________________\n"
     ]
    }
   ],
   "source": [
    "from keras import Model,Input\n",
    "embedding_dim = 100\n",
    "classes = 4\n",
    "\n",
    "#Defining encoder sequence\n",
    "seq_input1 = Input(shape = (maxlen_articlebody,), dtype = 'int32')\n",
    "x = Embedding(MAX_NB_WORDS, embedding_dim, weights = [embedding_matrix], input_length = maxlen_articlebody,trainable = False)(seq_input1)\n",
    "x = LSTM(200, return_sequences = True)(x)\n",
    "x,state_c,state_h = (LSTM(200,return_state = True, return_sequences = True))(x)\n",
    "encoder_states = [state_h,state_c]\n",
    "\n",
    "#Defining attention layer\n",
    "att_vector = TimeDistributed(Dense(1))(x)\n",
    "att_vector = Reshape((maxlen_articlebody,))(att_vector)\n",
    "att_vector = Activation('softmax', name='attention_vec')(att_vector)\n",
    "\n",
    "\n",
    "#Defining Decoder sequence\n",
    "seq_input2 = Input(shape = (maxlen_headline,),dtype = 'int32')\n",
    "x = Embedding(MAX_NB_WORDS, embedding_dim, weights = [embedding_matrix],input_length = maxlen_headline, trainable = False)(seq_input2)\n",
    "x = LSTM(200,return_sequences = True)(x,initial_state = encoder_states)\n",
    "x = LSTM(200,return_sequences = True)(x)\n",
    "x = Dense(20,activation = 'relu')(x)\n",
    "x = Flatten()(x)\n",
    "x = Dot(axes=1)([x,att_vector])\n",
    "x = Dense(8000, activation = 'relu')(x)\n",
    "x = Dense(200, activation = 'relu')(x)\n",
    "\n",
    "output = (Dense(classes, activation = 'softmax'))(x)\n",
    "model_3 = Model(inputs = [seq_input1,seq_input2], outputs = output)\n",
    "model_3.summary()"
   ]
  },
  {
   "cell_type": "code",
   "execution_count": 0,
   "metadata": {
    "colab": {
     "base_uri": "https://localhost:8080/",
     "height": 1000
    },
    "colab_type": "code",
    "id": "gTq1VL6jnDmZ",
    "outputId": "b6fb880e-388f-4ccc-f080-89ae6960d000"
   },
   "outputs": [
    {
     "data": {
      "image/png": "[encoded data removed]",
      "text/plain": [
       "<IPython.core.display.Image object>"
      ]
     },
     "execution_count": 65,
     "metadata": {
      "tags": []
     },
     "output_type": "execute_result"
    }
   ],
   "source": [
    "plot_model(model_3,to_file = 'model_2.png', show_shapes = True)"
   ]
  },
  {
   "cell_type": "code",
   "execution_count": 0,
   "metadata": {
    "colab": {
     "base_uri": "https://localhost:8080/",
     "height": 110
    },
    "colab_type": "code",
    "id": "v_SVUyI6nKfx",
    "outputId": "a5b8534e-f1c2-43f3-f949-6d9811b562dd"
   },
   "outputs": [
    {
     "name": "stdout",
     "output_type": "stream",
     "text": [
      "WARNING:tensorflow:From /usr/local/lib/python3.6/dist-packages/keras/optimizers.py:793: The name tf.train.Optimizer is deprecated. Please use tf.compat.v1.train.Optimizer instead.\n",
      "\n",
      "WARNING:tensorflow:From /usr/local/lib/python3.6/dist-packages/keras/backend/tensorflow_backend.py:3576: The name tf.log is deprecated. Please use tf.math.log instead.\n",
      "\n"
     ]
    }
   ],
   "source": [
    "model_3.compile(loss=\"categorical_crossentropy\", metrics=[\"accuracy\"], optimizer='adam')"
   ]
  },
  {
   "cell_type": "markdown",
   "metadata": {
    "colab_type": "text",
    "id": "olqo5ytRe7eq"
   },
   "source": [
    "## Fit the model and report the accuracy score for the model with attention layer (Optional)"
   ]
  },
  {
   "cell_type": "code",
   "execution_count": 0,
   "metadata": {
    "colab": {
     "base_uri": "https://localhost:8080/",
     "height": 982
    },
    "colab_type": "code",
    "id": "CO-6bQurnKtF",
    "outputId": "ce2aa4e3-fe5f-4464-e744-948662d240f2"
   },
   "outputs": [
    {
     "name": "stdout",
     "output_type": "stream",
     "text": [
      "WARNING:tensorflow:From /usr/local/lib/python3.6/dist-packages/tensorflow_core/python/ops/math_grad.py:1424: where (from tensorflow.python.ops.array_ops) is deprecated and will be removed in a future version.\n",
      "Instructions for updating:\n",
      "Use tf.where in 2.0, which has the same broadcast rule as np.where\n",
      "WARNING:tensorflow:From /usr/local/lib/python3.6/dist-packages/keras/backend/tensorflow_backend.py:1033: The name tf.assign_add is deprecated. Please use tf.compat.v1.assign_add instead.\n",
      "\n",
      "WARNING:tensorflow:From /usr/local/lib/python3.6/dist-packages/keras/backend/tensorflow_backend.py:1020: The name tf.assign is deprecated. Please use tf.compat.v1.assign instead.\n",
      "\n",
      "Train on 39978 samples, validate on 9994 samples\n",
      "Epoch 1/20\n",
      "39978/39978 [==============================] - 764s 19ms/step - loss: 0.8000 - acc: 0.7304 - val_loss: 0.7968 - val_acc: 0.7308\n",
      "Epoch 2/20\n",
      "39978/39978 [==============================] - 769s 19ms/step - loss: 0.7501 - acc: 0.7314 - val_loss: 0.7242 - val_acc: 0.7308\n",
      "Epoch 3/20\n"
     ]
    },
    {
     "name": "stderr",
     "output_type": "stream",
     "text": [
      "/usr/local/lib/python3.6/dist-packages/keras/callbacks.py:707: RuntimeWarning: Can save best model only with accuracy available, skipping.\n",
      "  'skipping.' % (self.monitor), RuntimeWarning)\n"
     ]
    },
    {
     "name": "stdout",
     "output_type": "stream",
     "text": [
      "39978/39978 [==============================] - 776s 19ms/step - loss: 0.6983 - acc: 0.7314 - val_loss: 0.6827 - val_acc: 0.7390\n",
      "Epoch 4/20\n",
      "39978/39978 [==============================] - 780s 20ms/step - loss: 0.6343 - acc: 0.7511 - val_loss: 0.5923 - val_acc: 0.7755\n",
      "Epoch 5/20\n",
      "39978/39978 [==============================] - 785s 20ms/step - loss: 0.5607 - acc: 0.7866 - val_loss: 0.5872 - val_acc: 0.7813\n",
      "Epoch 6/20\n",
      "39978/39978 [==============================] - 799s 20ms/step - loss: 0.5032 - acc: 0.8088 - val_loss: 0.4899 - val_acc: 0.8164\n",
      "Epoch 7/20\n",
      "39978/39978 [==============================] - 799s 20ms/step - loss: 0.4509 - acc: 0.8303 - val_loss: 0.4802 - val_acc: 0.8192\n",
      "Epoch 8/20\n",
      "39978/39978 [==============================] - 765s 19ms/step - loss: 0.4088 - acc: 0.8434 - val_loss: 0.4578 - val_acc: 0.8265\n",
      "Epoch 9/20\n",
      "39978/39978 [==============================] - 761s 19ms/step - loss: 0.3736 - acc: 0.8570 - val_loss: 0.4275 - val_acc: 0.8420\n",
      "Epoch 10/20\n",
      "39978/39978 [==============================] - 760s 19ms/step - loss: 0.3471 - acc: 0.8691 - val_loss: 0.3919 - val_acc: 0.8489\n",
      "Epoch 11/20\n",
      "39978/39978 [==============================] - 760s 19ms/step - loss: 0.3170 - acc: 0.8834 - val_loss: 0.4320 - val_acc: 0.8431\n",
      "\n",
      "Epoch 00011: ReduceLROnPlateau reducing learning rate to 0.00020000000949949026.\n",
      "Epoch 12/20\n",
      "39978/39978 [==============================] - 764s 19ms/step - loss: 0.2415 - acc: 0.9138 - val_loss: 0.3552 - val_acc: 0.8732\n",
      "Epoch 13/20\n",
      "39978/39978 [==============================] - 764s 19ms/step - loss: 0.2102 - acc: 0.9274 - val_loss: 0.3487 - val_acc: 0.8822\n",
      "Epoch 14/20\n",
      "39978/39978 [==============================] - 768s 19ms/step - loss: 0.1944 - acc: 0.9329 - val_loss: 0.3549 - val_acc: 0.8860\n",
      "Epoch 15/20\n",
      "39978/39978 [==============================] - 767s 19ms/step - loss: 0.1790 - acc: 0.9400 - val_loss: 0.3573 - val_acc: 0.8841\n",
      "Epoch 16/20\n",
      "39978/39978 [==============================] - 773s 19ms/step - loss: 0.1691 - acc: 0.9437 - val_loss: 0.3681 - val_acc: 0.8878\n",
      "Epoch 17/20\n",
      "39978/39978 [==============================] - 785s 20ms/step - loss: 0.1604 - acc: 0.9472 - val_loss: 0.3638 - val_acc: 0.8895\n",
      "Epoch 18/20\n",
      "39978/39978 [==============================] - 793s 20ms/step - loss: 0.1517 - acc: 0.9509 - val_loss: 0.3704 - val_acc: 0.8905\n",
      "Epoch 19/20\n",
      "39978/39978 [==============================] - 799s 20ms/step - loss: 0.1464 - acc: 0.9530 - val_loss: 0.3763 - val_acc: 0.8896\n",
      "Epoch 20/20\n",
      "39978/39978 [==============================] - 802s 20ms/step - loss: 0.1433 - acc: 0.9539 - val_loss: 0.3762 - val_acc: 0.8897\n"
     ]
    }
   ],
   "source": [
    "history2 = model_3.fit([X_train,X_heading_train],y_train, batch_size = 64, epochs= 20, validation_data = ([X_val,X_heading_val],y_val), callbacks = [checkpoints, reduce_lr,stop]).history"
   ]
  },
  {
   "cell_type": "code",
   "execution_count": 0,
   "metadata": {
    "colab": {
     "base_uri": "https://localhost:8080/",
     "height": 295
    },
    "colab_type": "code",
    "id": "RdWm3j1CnK-A",
    "outputId": "831fd6cf-3afa-4209-a022-cbdbf4bb7194"
   },
   "outputs": [
    {
     "data": {
      "image/png": "[encoded data removed]",
      "text/plain": [
       "<Figure size 432x288 with 1 Axes>"
      ]
     },
     "metadata": {
      "tags": []
     },
     "output_type": "display_data"
    }
   ],
   "source": [
    "plt.plot(history2['acc'])\n",
    "plt.plot(history2['val_acc'])\n",
    "plt.title('model accuracy')\n",
    "plt.ylabel('accuracy')\n",
    "plt.xlabel('epoch')\n",
    "plt.legend(['train', 'val'], loc='upper left')\n",
    "plt.show()"
   ]
  },
  {
   "cell_type": "markdown",
   "metadata": {
    "colab_type": "text",
    "id": "RCBs50vdZTbf"
   },
   "source": [
    "Model with SINGLE LSTM Layer in both Encoder and Decoder with Attention Mechanism is used.  This model gives 95.39% accuracy with the training set and 88.97% with the validation dataset"
   ]
  },
  {
   "cell_type": "code",
   "execution_count": 0,
   "metadata": {
    "colab": {},
    "colab_type": "code",
    "id": "VxXkd989qPUK"
   },
   "outputs": [],
   "source": []
  }
 ],
 "metadata": {
  "accelerator": "GPU",
  "colab": {
   "collapsed_sections": [],
   "name": " STANCE DETECTION PROJECT_SUBMISSION.ipynb",
   "provenance": [],
   "toc_visible": true
  },
  "kernelspec": {
   "display_name": "Python 3",
   "language": "python",
   "name": "python3"
  },
  "language_info": {
   "codemirror_mode": {
    "name": "ipython",
    "version": 3
   },
   "file_extension": ".py",
   "mimetype": "text/x-python",
   "name": "python",
   "nbconvert_exporter": "python",
   "pygments_lexer": "ipython3",
   "version": "3.7.1"
  }
 },
 "nbformat": 4,
 "nbformat_minor": 1
}
